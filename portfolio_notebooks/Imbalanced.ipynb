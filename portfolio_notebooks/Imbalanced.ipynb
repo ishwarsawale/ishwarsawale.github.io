{
 "cells": [
  {
   "cell_type": "markdown",
   "metadata": {},
   "source": [
    "# BInary classification in case of imbalanced data\n",
    "\n",
    "I have data about 2100 employees: 16 variables and whether they are fired or not. I need to create a model for data classification."
   ]
  },
  {
   "cell_type": "code",
   "execution_count": 1,
   "metadata": {
    "collapsed": true
   },
   "outputs": [],
   "source": [
    "import pandas as pd\n",
    "import numpy as np\n",
    "from sklearn.ensemble import RandomForestClassifier\n",
    "from sklearn.calibration import CalibratedClassifierCV\n",
    "from sklearn.model_selection import StratifiedKFold, train_test_split, GridSearchCV\n",
    "from sklearn.metrics import classification_report"
   ]
  },
  {
   "cell_type": "code",
   "execution_count": 2,
   "metadata": {},
   "outputs": [],
   "source": [
    "data = pd.read_csv('/file.csv')"
   ]
  },
  {
   "cell_type": "code",
   "execution_count": 3,
   "metadata": {
    "scrolled": true
   },
   "outputs": [
    {
     "name": "stdout",
     "output_type": "stream",
     "text": [
      "<class 'pandas.core.frame.DataFrame'>\n",
      "RangeIndex: 2100 entries, 0 to 2099\n",
      "Data columns (total 18 columns):\n",
      "employee_id    2100 non-null object\n",
      "factor_1       2100 non-null int64\n",
      "factor_2       2100 non-null int64\n",
      "factor_3       2100 non-null int64\n",
      "factor_4       2100 non-null int64\n",
      "factor_5       2100 non-null int64\n",
      "factor_6       2100 non-null int64\n",
      "factor_7       2100 non-null int64\n",
      "factor_8       2100 non-null int64\n",
      "factor_9       2100 non-null int64\n",
      "factor_10      2100 non-null int64\n",
      "factor_11      2100 non-null int64\n",
      "factor_12      2100 non-null int64\n",
      "factor_13      2100 non-null int64\n",
      "factor_14      2100 non-null int64\n",
      "factor_15      2100 non-null int64\n",
      "factor_16      2100 non-null int64\n",
      "fired          2100 non-null int64\n",
      "dtypes: int64(17), object(1)\n",
      "memory usage: 295.4+ KB\n"
     ]
    }
   ],
   "source": [
    "data.info()"
   ]
  },
  {
   "cell_type": "markdown",
   "metadata": {},
   "source": [
    "No missing data, all variables are numeric except employee id."
   ]
  },
  {
   "cell_type": "code",
   "execution_count": 4,
   "metadata": {},
   "outputs": [
    {
     "data": {
      "text/html": [
       "<div>\n",
       "<table border=\"1\" class=\"dataframe\">\n",
       "  <thead>\n",
       "    <tr style=\"text-align: right;\">\n",
       "      <th></th>\n",
       "      <th>employee_id</th>\n",
       "      <th>factor_1</th>\n",
       "      <th>factor_2</th>\n",
       "      <th>factor_3</th>\n",
       "      <th>factor_4</th>\n",
       "      <th>factor_5</th>\n",
       "      <th>factor_6</th>\n",
       "      <th>factor_7</th>\n",
       "      <th>factor_8</th>\n",
       "      <th>factor_9</th>\n",
       "      <th>factor_10</th>\n",
       "      <th>factor_11</th>\n",
       "      <th>factor_12</th>\n",
       "      <th>factor_13</th>\n",
       "      <th>factor_14</th>\n",
       "      <th>factor_15</th>\n",
       "      <th>factor_16</th>\n",
       "      <th>fired</th>\n",
       "    </tr>\n",
       "  </thead>\n",
       "  <tbody>\n",
       "    <tr>\n",
       "      <th>0</th>\n",
       "      <td>957099050466813076</td>\n",
       "      <td>3529</td>\n",
       "      <td>500934542</td>\n",
       "      <td>3012</td>\n",
       "      <td>378</td>\n",
       "      <td>1557</td>\n",
       "      <td>4091</td>\n",
       "      <td>167</td>\n",
       "      <td>0</td>\n",
       "      <td>30</td>\n",
       "      <td>16697818</td>\n",
       "      <td>0</td>\n",
       "      <td>141948</td>\n",
       "      <td>10</td>\n",
       "      <td>38</td>\n",
       "      <td>5</td>\n",
       "      <td>0</td>\n",
       "      <td>0</td>\n",
       "    </tr>\n",
       "    <tr>\n",
       "      <th>1</th>\n",
       "      <td>13164358679111999796</td>\n",
       "      <td>2017</td>\n",
       "      <td>490702594</td>\n",
       "      <td>1958</td>\n",
       "      <td>453</td>\n",
       "      <td>1238</td>\n",
       "      <td>2548</td>\n",
       "      <td>185</td>\n",
       "      <td>0</td>\n",
       "      <td>30</td>\n",
       "      <td>16356753</td>\n",
       "      <td>0</td>\n",
       "      <td>243283</td>\n",
       "      <td>22</td>\n",
       "      <td>48</td>\n",
       "      <td>9</td>\n",
       "      <td>0</td>\n",
       "      <td>0</td>\n",
       "    </tr>\n",
       "    <tr>\n",
       "      <th>2</th>\n",
       "      <td>5442250097157630866</td>\n",
       "      <td>169</td>\n",
       "      <td>43802030</td>\n",
       "      <td>162</td>\n",
       "      <td>28</td>\n",
       "      <td>0</td>\n",
       "      <td>189</td>\n",
       "      <td>8</td>\n",
       "      <td>0</td>\n",
       "      <td>30</td>\n",
       "      <td>1460067</td>\n",
       "      <td>0</td>\n",
       "      <td>259183</td>\n",
       "      <td>16</td>\n",
       "      <td>0</td>\n",
       "      <td>4</td>\n",
       "      <td>0</td>\n",
       "      <td>0</td>\n",
       "    </tr>\n",
       "    <tr>\n",
       "      <th>3</th>\n",
       "      <td>9345017131298737624</td>\n",
       "      <td>844</td>\n",
       "      <td>201061365</td>\n",
       "      <td>781</td>\n",
       "      <td>256</td>\n",
       "      <td>172</td>\n",
       "      <td>928</td>\n",
       "      <td>42</td>\n",
       "      <td>0</td>\n",
       "      <td>30</td>\n",
       "      <td>6702045</td>\n",
       "      <td>0</td>\n",
       "      <td>238224</td>\n",
       "      <td>30</td>\n",
       "      <td>18</td>\n",
       "      <td>5</td>\n",
       "      <td>0</td>\n",
       "      <td>0</td>\n",
       "    </tr>\n",
       "    <tr>\n",
       "      <th>4</th>\n",
       "      <td>6389462342858680146</td>\n",
       "      <td>213</td>\n",
       "      <td>95858986</td>\n",
       "      <td>197</td>\n",
       "      <td>46</td>\n",
       "      <td>0</td>\n",
       "      <td>391</td>\n",
       "      <td>10</td>\n",
       "      <td>0</td>\n",
       "      <td>30</td>\n",
       "      <td>3195299</td>\n",
       "      <td>0</td>\n",
       "      <td>450042</td>\n",
       "      <td>21</td>\n",
       "      <td>0</td>\n",
       "      <td>5</td>\n",
       "      <td>0</td>\n",
       "      <td>0</td>\n",
       "    </tr>\n",
       "  </tbody>\n",
       "</table>\n",
       "</div>"
      ],
      "text/plain": [
       "            employee_id  factor_1   factor_2  factor_3  factor_4  factor_5  \\\n",
       "0    957099050466813076      3529  500934542      3012       378      1557   \n",
       "1  13164358679111999796      2017  490702594      1958       453      1238   \n",
       "2   5442250097157630866       169   43802030       162        28         0   \n",
       "3   9345017131298737624       844  201061365       781       256       172   \n",
       "4   6389462342858680146       213   95858986       197        46         0   \n",
       "\n",
       "   factor_6  factor_7  factor_8  factor_9  factor_10  factor_11  factor_12  \\\n",
       "0      4091       167         0        30   16697818          0     141948   \n",
       "1      2548       185         0        30   16356753          0     243283   \n",
       "2       189         8         0        30    1460067          0     259183   \n",
       "3       928        42         0        30    6702045          0     238224   \n",
       "4       391        10         0        30    3195299          0     450042   \n",
       "\n",
       "   factor_13  factor_14  factor_15  factor_16  fired  \n",
       "0         10         38          5          0      0  \n",
       "1         22         48          9          0      0  \n",
       "2         16          0          4          0      0  \n",
       "3         30         18          5          0      0  \n",
       "4         21          0          5          0      0  "
      ]
     },
     "execution_count": 4,
     "metadata": {},
     "output_type": "execute_result"
    }
   ],
   "source": [
    "data.head()"
   ]
  },
  {
   "cell_type": "code",
   "execution_count": 5,
   "metadata": {},
   "outputs": [
    {
     "data": {
      "text/plain": [
       "array([0, 1], dtype=int64)"
      ]
     },
     "execution_count": 5,
     "metadata": {},
     "output_type": "execute_result"
    }
   ],
   "source": [
    "data.fired.unique()"
   ]
  },
  {
   "cell_type": "code",
   "execution_count": 6,
   "metadata": {},
   "outputs": [
    {
     "name": "stdout",
     "output_type": "stream",
     "text": [
      "There are 95.52% zero values in \"fired\" column.\n"
     ]
    }
   ],
   "source": [
    "print('There are {:.2f}% zero values in \"fired\" column.'.format((1 - sum(data.fired) / 2100) * 100))"
   ]
  },
  {
   "cell_type": "markdown",
   "metadata": {},
   "source": [
    "The dataset has imbalanced classes: 95.52% of all rows have \"0\" value in the column \"fired\". This means that predicting \"1\" is more difficult that \"0\". And model accuracy of 95.52% could mean that model dumbly predicts \"0\" in all cases. To increase predictive capacity of the model the following methods are commonly used:\n",
    "\n",
    "- collecting more data to decrease imbalance;\n",
    "- using other metrics (not accuracy) to measure model performance, for example F1-score;\n",
    "- using less samples of the common class and/or more samples of the rare class for training;\n",
    "- changing threshold for predicting the class;\n",
    "- trying various algorithms;\n",
    "- using weights to increase the importance of the rare class;\n",
    "- generating artificial data;\n",
    "- trying to solve a model of anomaly detection instead of classification;\n",
    "\n",
    "Random Forest is a great model to use in case of imbalanced data."
   ]
  },
  {
   "cell_type": "code",
   "execution_count": 7,
   "metadata": {},
   "outputs": [],
   "source": [
    "X_train = data.drop(['fired', 'employee_id'], axis=1)\n",
    "Y_train = data.fired"
   ]
  },
  {
   "cell_type": "code",
   "execution_count": 8,
   "metadata": {},
   "outputs": [
    {
     "name": "stdout",
     "output_type": "stream",
     "text": [
      "Feature ranking:\n",
      "1. feature 12 factor_13 (0.294455)\n",
      "2. feature 14 factor_15 (0.224225)\n",
      "3. feature 10 factor_11 (0.103989)\n",
      "4. feature 11 factor_12 (0.067701)\n",
      "5. feature 7 factor_8 (0.054108)\n",
      "6. feature 15 factor_16 (0.043029)\n",
      "7. feature 8 factor_9 (0.042708)\n",
      "8. feature 13 factor_14 (0.038124)\n",
      "9. feature 6 factor_7 (0.025042)\n",
      "10. feature 9 factor_10 (0.019295)\n",
      "11. feature 2 factor_3 (0.018302)\n",
      "12. feature 0 factor_1 (0.017599)\n",
      "13. feature 1 factor_2 (0.014488)\n",
      "14. feature 3 factor_4 (0.012968)\n",
      "15. feature 5 factor_6 (0.012587)\n",
      "16. feature 4 factor_5 (0.011381)\n"
     ]
    }
   ],
   "source": [
    "#Evaluating feature importance.\n",
    "clf = RandomForestClassifier(n_estimators=200)\n",
    "clf = clf.fit(X_train, Y_train)\n",
    "indices = np.argsort(clf.feature_importances_)[::-1]\n",
    "\n",
    "print('Feature ranking:')\n",
    "\n",
    "for f in range(X_train.shape[1]):\n",
    "    print('%d. feature %d %s (%f)' % (f + 1, indices[f], X_train.columns[indices[f]],\n",
    "                                      clf.feature_importances_[indices[f]]))"
   ]
  },
  {
   "cell_type": "markdown",
   "metadata": {},
   "source": [
    "Only several features have high importance. But I can't just throw away other features due to class imbalance, as less important factors could be importand for predicting \"1\"."
   ]
  },
  {
   "cell_type": "code",
   "execution_count": 9,
   "metadata": {},
   "outputs": [],
   "source": [
    "\n",
    "Xtrain, Xtest, ytrain, ytest = train_test_split(X_train, Y_train, test_size=0.20, stratify = Y_train)"
   ]
  },
  {
   "cell_type": "markdown",
   "metadata": {},
   "source": [
    "I used GridSearchCV to tune model's parameters. Also I use CalibratedClassifierCV to improve probability prediction."
   ]
  },
  {
   "cell_type": "code",
   "execution_count": 10,
   "metadata": {},
   "outputs": [],
   "source": [
    "clf = RandomForestClassifier(n_estimators=150, n_jobs=-1, criterion = 'gini', max_features = 'sqrt',\n",
    "                             min_samples_split=7, min_weight_fraction_leaf=0.0,\n",
    "                             max_leaf_nodes=40, max_depth=10)\n",
    "\n",
    "calibrated_clf = CalibratedClassifierCV(clf, method='sigmoid', cv=5)\n",
    "calibrated_clf.fit(Xtrain, ytrain)\n",
    "y_val = calibrated_clf.predict_proba(Xtest)"
   ]
  },
  {
   "cell_type": "markdown",
   "metadata": {},
   "source": [
    "Let's see several metrics to measure model's performance.\n",
    "\n",
    "At first simple accuracy."
   ]
  },
  {
   "cell_type": "code",
   "execution_count": 11,
   "metadata": {},
   "outputs": [
    {
     "name": "stdout",
     "output_type": "stream",
     "text": [
      "Accuracy 99.5238%\n"
     ]
    }
   ],
   "source": [
    "print(\"Accuracy {0}%\".format(round(sum(pd.DataFrame(y_val).idxmax(axis=1).values == ytest)/len(ytest)*100, 4)))"
   ]
  },
  {
   "cell_type": "markdown",
   "metadata": {},
   "source": [
    "The accuracy is quite good, but this metric doesn't show how accurate are predictions for each class."
   ]
  },
  {
   "cell_type": "code",
   "execution_count": 12,
   "metadata": {},
   "outputs": [
    {
     "name": "stdout",
     "output_type": "stream",
     "text": [
      "             precision    recall  f1-score   support\n",
      "\n",
      "          0     0.9950    1.0000    0.9975       401\n",
      "          1     1.0000    0.8947    0.9444        19\n",
      "\n",
      "avg / total     0.9953    0.9952    0.9951       420\n",
      "\n"
     ]
    }
   ],
   "source": [
    "print(classification_report(ytest, pd.DataFrame(y_val).idxmax(axis=1).values, target_names=['0', '1'], digits=4))"
   ]
  },
  {
   "cell_type": "markdown",
   "metadata": {},
   "source": [
    "Now we can cee that the models give good predictions for both classes.\n",
    "\n",
    "But the result may be improves if the threshold of choosing the class is changed."
   ]
  },
  {
   "cell_type": "code",
   "execution_count": 13,
   "metadata": {},
   "outputs": [
    {
     "name": "stdout",
     "output_type": "stream",
     "text": [
      "             precision    recall  f1-score   support\n",
      "\n",
      "          0     1.0000    0.9975    0.9988       401\n",
      "          1     0.9500    1.0000    0.9744        19\n",
      "\n",
      "avg / total     0.9977    0.9976    0.9976       420\n",
      "\n"
     ]
    }
   ],
   "source": [
    "y_threshold = np.zeros(ytest.shape).astype(int)\n",
    "for i in range(len(y_val)):\n",
    "    if y_val[i][1] > 0.1:\n",
    "        y_threshold[i] = 1\n",
    "print(classification_report(ytest, y_threshold, target_names=['0', '1'], digits=4))"
   ]
  },
  {
   "cell_type": "markdown",
   "metadata": {},
   "source": [
    "Model's quality has improved. But it is better to automate the search of the optimal threshold."
   ]
  },
  {
   "cell_type": "code",
   "execution_count": 14,
   "metadata": {},
   "outputs": [],
   "source": [
    "def optimal_threshold(do):\n",
    "    threshold = [0.05, 0.1, 0.15, 0.2, 0.25, 0.3, 0.35, 0.4, 0.45, 0.5]\n",
    "    f1 = []\n",
    "    for j in range(len(threshold)):\n",
    "        y_threshold = np.zeros(ytest.shape).astype(int)\n",
    "        for i in range(len(y_val)):\n",
    "            if y_val[i][1] > threshold[j]:\n",
    "                y_threshold[i] = 1\n",
    "        f1.append(classification_report(ytest, y_threshold, target_names=['0', '1'], digits=4).split()[19])\n",
    "        \n",
    "    if do == 'print':\n",
    "        print('Maximum value of F1-score is {0} with threshold {1}.'.format(max(f1), threshold[f1.index(max(f1))]))\n",
    "    elif do == 'calc':\n",
    "        return max(f1)"
   ]
  },
  {
   "cell_type": "code",
   "execution_count": 15,
   "metadata": {},
   "outputs": [
    {
     "name": "stdout",
     "output_type": "stream",
     "text": [
      "Maximum value of F1-score is 0.9976 with threshold 0.1.\n"
     ]
    }
   ],
   "source": [
    "optimal_threshold('print')"
   ]
  },
  {
   "cell_type": "markdown",
   "metadata": {},
   "source": [
    "So, the model is quite accurate. But there is one more challenge: the amount of observations isn't very hish, so data splitting has a serious influence on the predictions. And in some cases optimal threshold may be 0.5. So it is better to use closs-validation.\n",
    "\n",
    "In the code below I split data into train and test 10 times, each time model is fitted on train data, predicts values for test data and the best f1 score is calculate. After ten iterations mean value of F1-score and standard deviation is shown."
   ]
  },
  {
   "cell_type": "code",
   "execution_count": 16,
   "metadata": {},
   "outputs": [
    {
     "name": "stdout",
     "output_type": "stream",
     "text": [
      "Average value of F1-score is 0.9949 with standard deviation of 0.003\n"
     ]
    }
   ],
   "source": [
    "j = 0\n",
    "score = []\n",
    "while j < 10:\n",
    "    Xtrain, Xtest, ytrain, ytest = train_test_split(X_train, Y_train, test_size=0.20, stratify = Y_train)\n",
    "    calibrated_clf.fit(Xtrain, ytrain)\n",
    "    y_val = calibrated_clf.predict_proba(Xtest)\n",
    "    y_ = np.zeros(ytest.shape).astype(int)\n",
    "    score_max = optimal_threshold('calc')\n",
    "    score.append(float(score_max))\n",
    "    j = j + 1\n",
    "print('Average value of F1-score is {0} with standard deviation of {1}'.format(round(np.mean(score), 4),\n",
    "                                                                                                 round(np.std(score), 4)))"
   ]
  }
 ],
 "metadata": {
  "anaconda-cloud": {},
  "kernelspec": {
   "display_name": "Python [Root]",
   "language": "python",
   "name": "Python [Root]"
  },
  "language_info": {
   "codemirror_mode": {
    "name": "ipython",
    "version": 3
   },
   "file_extension": ".py",
   "mimetype": "text/x-python",
   "name": "python",
   "nbconvert_exporter": "python",
   "pygments_lexer": "ipython3",
   "version": "3.6.1"
  }
 },
 "nbformat": 4,
 "nbformat_minor": 1
}
