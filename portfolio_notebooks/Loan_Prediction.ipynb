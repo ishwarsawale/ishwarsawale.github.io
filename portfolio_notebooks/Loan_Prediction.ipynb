{
 "cells": [
  {
   "cell_type": "markdown",
   "metadata": {
    "collapsed": true
   },
   "source": [
    "# Loan Prediction\n",
    "\n",
    "This is a practice hackathon. We have dataset with information about customers and the goal is to predict whether the company should give them loans or not.\n",
    "\n",
    "At first I do some quiсk modelling to see what features are important. Then I do data exploration to get some insights and fill missing values. The prediction is done using RandomForest."
   ]
  },
  {
   "cell_type": "markdown",
   "metadata": {},
   "source": [
    "1. [Quick modelling](#quick)\n",
    "\n",
    "2. [Data exploration](#datex)\n",
    "\n",
    "    2.1 [Load_ID](#loan)\n",
    "\n",
    "    2.2 [Gender](#gender)\n",
    "    \n",
    "    2.3 [Dependents](#depend)\n",
    "    \n",
    "    2.4 [Education](#Education)\n",
    "    \n",
    "    2.5 [Self_Employed](#Self_Employed)\n",
    "    \n",
    "    2.6 [ApplicantIncome](#ApplicantIncome)\n",
    "    \n",
    "    2.7 [CoapplicantIncome](#CoapplicantIncome)\n",
    "    \n",
    "    2.8 [LoanAmount](#LoanAmount)\n",
    "    \n",
    "    2.9 [Loan_Amount_Term](#Loan_Amount_Term)\n",
    "    \n",
    "    2.10 [Credit_History](#Credit_History)\n",
    "    \n",
    "    2.11 [Property_Area](#Property_Area)\n",
    "\n",
    "3. [Data Preparation](#datprep)\n",
    "\n",
    "4. [Model](#model)"
   ]
  },
  {
   "cell_type": "code",
   "execution_count": 1,
   "metadata": {
    "collapsed": true
   },
   "outputs": [],
   "source": [
    "import numpy as np\n",
    "import pandas as pd\n",
    "import matplotlib.pyplot as plt\n",
    "%matplotlib inline\n",
    "import seaborn as sns\n",
    "sns.set_style('whitegrid')\n",
    "from sklearn.preprocessing import LabelEncoder\n",
    "from sklearn.model_selection import train_test_split, StratifiedKFold\n",
    "from sklearn.ensemble import RandomForestClassifier\n",
    "from sklearn.calibration import CalibratedClassifierCV\n",
    "from scipy.stats import skew"
   ]
  },
  {
   "cell_type": "code",
   "execution_count": 2,
   "metadata": {},
   "outputs": [],
   "source": [
    "train = pd.read_csv('../input/train.csv')\n",
    "test = pd.read_csv('../input/test.csv')"
   ]
  },
  {
   "cell_type": "markdown",
   "metadata": {},
   "source": [
    "These are the customers' details available in the dataset.\n",
    "\n",
    "* Variable - Description\n",
    "* Loan_ID - Unique Loan ID\n",
    "* Gender - Male/ Female\n",
    "* Married - Applicant married (Y/N)\n",
    "* Dependents - Number of dependents\n",
    "* Education - Applicant Education (Graduate/ Under Graduate)\n",
    "* Self_Employed - Self employed (Y/N)\n",
    "* ApplicantIncome - Applicant income\n",
    "* CoapplicantIncome - Coapplicant income\n",
    "* LoanAmount - Loan amount in thousands\n",
    "* Loan_Amount_Term - Term of loan in months\n",
    "* Credit_History - credit history meets guidelines\n",
    "* Property_Area - Urban/ Semi Urban/ Rural\n",
    "* Loan_Status - Loan approved (Y/N)"
   ]
  },
  {
   "cell_type": "markdown",
   "metadata": {},
   "source": [
    "## <a name='quick'>Quick modelling</a>"
   ]
  },
  {
   "cell_type": "markdown",
   "metadata": {},
   "source": [
    "The idea is to get a basic benchmark and to see which features are important while spending no time on data analysis. This will give a rough estimate, but it is useful."
   ]
  },
  {
   "cell_type": "code",
   "execution_count": 3,
   "metadata": {},
   "outputs": [],
   "source": [
    "train = train.fillna(train.mean())\n",
    "test = test.fillna(test.mean())"
   ]
  },
  {
   "cell_type": "code",
   "execution_count": 4,
   "metadata": {},
   "outputs": [],
   "source": [
    "#LoanID is just an index, so it isn't useful. LoanID in test data is necessary to create a submission file.\n",
    "train.drop(['Loan_ID'], axis=1, inplace=True)\n",
    "test_id = test.Loan_ID\n",
    "test.drop(['Loan_ID'], axis=1, inplace=True)"
   ]
  },
  {
   "cell_type": "code",
   "execution_count": 5,
   "metadata": {},
   "outputs": [],
   "source": [
    "for col in train.columns.drop('Loan_Status'):\n",
    "    if train[col].dtype != 'object':\n",
    "        if skew(train[col]) > 0.75:\n",
    "            train[col] = np.log1p(train[col])\n",
    "        pass\n",
    "    else:\n",
    "        dummies = pd.get_dummies(train[col], drop_first=False)\n",
    "        dummies = dummies.add_prefix(\"{}_\".format(col))\n",
    "        train.drop(col, axis=1, inplace=True)\n",
    "        train = train.join(dummies)\n",
    "        \n",
    "for col in test.columns:\n",
    "    if test[col].dtype != 'object':\n",
    "        if skew(test[col]) > 0.75:\n",
    "            test[col] = np.log1p(test[col])\n",
    "        pass\n",
    "    else:\n",
    "        dummies = pd.get_dummies(test[col], drop_first=False)\n",
    "        dummies = dummies.add_prefix(\"{}_\".format(col))\n",
    "        test.drop(col, axis=1, inplace=True)\n",
    "        test = test.join(dummies)"
   ]
  },
  {
   "cell_type": "code",
   "execution_count": 6,
   "metadata": {
    "collapsed": true
   },
   "outputs": [],
   "source": [
    "from sklearn.preprocessing import LabelEncoder\n",
    "X_train = train.drop('Loan_Status', axis=1)\n",
    "le = LabelEncoder()\n",
    "Y_train = le.fit_transform(train.Loan_Status.values)\n",
    "X_test = test"
   ]
  },
  {
   "cell_type": "code",
   "execution_count": 7,
   "metadata": {
    "scrolled": true
   },
   "outputs": [
    {
     "name": "stdout",
     "output_type": "stream",
     "text": [
      "Feature ranking:\n",
      "1. feature 4 Credit_History (0.259262)\n",
      "2. feature 0 ApplicantIncome (0.180829)\n",
      "3. feature 2 LoanAmount (0.170103)\n",
      "4. feature 1 CoapplicantIncome (0.109906)\n",
      "5. feature 3 Loan_Amount_Term (0.044797)\n",
      "6. feature 18 Property_Area_Semiurban (0.022159)\n",
      "7. feature 9 Dependents_0 (0.019059)\n",
      "8. feature 17 Property_Area_Rural (0.018539)\n",
      "9. feature 15 Self_Employed_No (0.017493)\n",
      "10. feature 10 Dependents_1 (0.016999)\n",
      "11. feature 19 Property_Area_Urban (0.015641)\n",
      "12. feature 5 Gender_Female (0.015006)\n",
      "13. feature 6 Gender_Male (0.014921)\n",
      "14. feature 7 Married_No (0.014761)\n",
      "15. feature 8 Married_Yes (0.014405)\n",
      "16. feature 14 Education_Not Graduate (0.014094)\n",
      "17. feature 13 Education_Graduate (0.014000)\n",
      "18. feature 16 Self_Employed_Yes (0.013595)\n",
      "19. feature 11 Dependents_2 (0.012738)\n",
      "20. feature 12 Dependents_3+ (0.011692)\n"
     ]
    }
   ],
   "source": [
    "#Estimating feature importance.\n",
    "clf = RandomForestClassifier(n_estimators=200)\n",
    "clf = clf.fit(X_train, Y_train)\n",
    "indices = np.argsort(clf.feature_importances_)[::-1]\n",
    "\n",
    "print('Feature ranking:')\n",
    "for f in range(X_train.shape[1]):\n",
    "    print('%d. feature %d %s (%f)' % (f + 1, indices[f], X_train.columns[indices[f]],\n",
    "                                      clf.feature_importances_[indices[f]]))"
   ]
  },
  {
   "cell_type": "markdown",
   "metadata": {},
   "source": [
    "Obviously credit history, income, loan amount and loan amount term are important. Other variables have less importance and may be ignored for now."
   ]
  },
  {
   "cell_type": "code",
   "execution_count": 8,
   "metadata": {
    "collapsed": true
   },
   "outputs": [],
   "source": [
    "#I'll use top-5 most important features.\n",
    "best_features=X_train.columns[indices[0:5]]\n",
    "X = X_train[best_features]\n",
    "Xt = X_test[best_features]"
   ]
  },
  {
   "cell_type": "code",
   "execution_count": 9,
   "metadata": {},
   "outputs": [],
   "source": [
    "Xtrain, Xtest, ytrain, ytest = train_test_split(X, Y_train, test_size=0.20, random_state=36)"
   ]
  },
  {
   "cell_type": "markdown",
   "metadata": {},
   "source": [
    "RandomForest is a suitable choice here."
   ]
  },
  {
   "cell_type": "code",
   "execution_count": 10,
   "metadata": {},
   "outputs": [
    {
     "name": "stdout",
     "output_type": "stream",
     "text": [
      "Validation accuracy:  0.780487804878\n"
     ]
    }
   ],
   "source": [
    "clf = RandomForestClassifier(n_estimators=300, n_jobs=-1, criterion = 'gini')\n",
    "#CalibratedClassifierCV - probability calibration with cross-validation.\n",
    "calibrated_clf = CalibratedClassifierCV(clf, method='isotonic', cv=5)\n",
    "calibrated_clf.fit(Xtrain, ytrain)\n",
    "y_val = calibrated_clf.predict_proba(Xtest)\n",
    "y_f = [1 if y_val[i][0] < 0.5 else 0 for i in range(len(ytest))]\n",
    "print(\"Validation accuracy: \", sum(y_f == ytest) / len(ytest))"
   ]
  },
  {
   "cell_type": "code",
   "execution_count": 11,
   "metadata": {
    "collapsed": true
   },
   "outputs": [],
   "source": [
    "clf = RandomForestClassifier(n_estimators=300, n_jobs=-1, criterion = 'gini')\n",
    "calibrated_clf = CalibratedClassifierCV(clf, method='isotonic', cv=5)\n",
    "calibrated_clf.fit(X, Y_train)\n",
    "y_submit = calibrated_clf.predict_proba(Xt)\n",
    "submission = pd.DataFrame({'Loan_ID':test_id,\n",
    "                           'Loan_Status':le.inverse_transform([1 if y_submit[i][0] < 0.5 else 0 for i in range(len(Xt))])})\n",
    "submission.to_csv('Loan.csv', index=False)"
   ]
  },
  {
   "cell_type": "markdown",
   "metadata": {},
   "source": [
    "This submission had 0.75 accuracy when submitted, which is a good result. Let's see how it can be improved after paying more attention to data."
   ]
  },
  {
   "cell_type": "code",
   "execution_count": 12,
   "metadata": {
    "collapsed": true
   },
   "outputs": [],
   "source": [
    "Input the path to the files instead of \"../input\".\n",
    "train = pd.read_csv('../input/train.csv')\n",
    "test = pd.read_csv('../input/test.csv')"
   ]
  },
  {
   "cell_type": "markdown",
   "metadata": {},
   "source": [
    "## <a name='datex'>Data exploration</a>"
   ]
  },
  {
   "cell_type": "code",
   "execution_count": 13,
   "metadata": {},
   "outputs": [
    {
     "name": "stdout",
     "output_type": "stream",
     "text": [
      "<class 'pandas.core.frame.DataFrame'>\n",
      "RangeIndex: 614 entries, 0 to 613\n",
      "Data columns (total 13 columns):\n",
      "Loan_ID              614 non-null object\n",
      "Gender               601 non-null object\n",
      "Married              611 non-null object\n",
      "Dependents           599 non-null object\n",
      "Education            614 non-null object\n",
      "Self_Employed        582 non-null object\n",
      "ApplicantIncome      614 non-null int64\n",
      "CoapplicantIncome    614 non-null float64\n",
      "LoanAmount           592 non-null float64\n",
      "Loan_Amount_Term     600 non-null float64\n",
      "Credit_History       564 non-null float64\n",
      "Property_Area        614 non-null object\n",
      "Loan_Status          614 non-null object\n",
      "dtypes: float64(4), int64(1), object(8)\n",
      "memory usage: 62.4+ KB\n"
     ]
    }
   ],
   "source": [
    "train.info()"
   ]
  },
  {
   "cell_type": "code",
   "execution_count": 14,
   "metadata": {},
   "outputs": [
    {
     "name": "stdout",
     "output_type": "stream",
     "text": [
      "<class 'pandas.core.frame.DataFrame'>\n",
      "RangeIndex: 367 entries, 0 to 366\n",
      "Data columns (total 12 columns):\n",
      "Loan_ID              367 non-null object\n",
      "Gender               356 non-null object\n",
      "Married              367 non-null object\n",
      "Dependents           357 non-null object\n",
      "Education            367 non-null object\n",
      "Self_Employed        344 non-null object\n",
      "ApplicantIncome      367 non-null int64\n",
      "CoapplicantIncome    367 non-null int64\n",
      "LoanAmount           362 non-null float64\n",
      "Loan_Amount_Term     361 non-null float64\n",
      "Credit_History       338 non-null float64\n",
      "Property_Area        367 non-null object\n",
      "dtypes: float64(3), int64(2), object(7)\n",
      "memory usage: 34.5+ KB\n"
     ]
    }
   ],
   "source": [
    "test.info()"
   ]
  },
  {
   "cell_type": "code",
   "execution_count": 15,
   "metadata": {},
   "outputs": [
    {
     "data": {
      "text/html": [
       "<div>\n",
       "<table border=\"1\" class=\"dataframe\">\n",
       "  <thead>\n",
       "    <tr style=\"text-align: right;\">\n",
       "      <th></th>\n",
       "      <th>Loan_ID</th>\n",
       "      <th>Gender</th>\n",
       "      <th>Married</th>\n",
       "      <th>Dependents</th>\n",
       "      <th>Education</th>\n",
       "      <th>Self_Employed</th>\n",
       "      <th>ApplicantIncome</th>\n",
       "      <th>CoapplicantIncome</th>\n",
       "      <th>LoanAmount</th>\n",
       "      <th>Loan_Amount_Term</th>\n",
       "      <th>Credit_History</th>\n",
       "      <th>Property_Area</th>\n",
       "      <th>Loan_Status</th>\n",
       "    </tr>\n",
       "  </thead>\n",
       "  <tbody>\n",
       "    <tr>\n",
       "      <th>count</th>\n",
       "      <td>614</td>\n",
       "      <td>601</td>\n",
       "      <td>611</td>\n",
       "      <td>599</td>\n",
       "      <td>614</td>\n",
       "      <td>582</td>\n",
       "      <td>614.000000</td>\n",
       "      <td>614.000000</td>\n",
       "      <td>592.000000</td>\n",
       "      <td>600.00000</td>\n",
       "      <td>564.000000</td>\n",
       "      <td>614</td>\n",
       "      <td>614</td>\n",
       "    </tr>\n",
       "    <tr>\n",
       "      <th>unique</th>\n",
       "      <td>614</td>\n",
       "      <td>2</td>\n",
       "      <td>2</td>\n",
       "      <td>4</td>\n",
       "      <td>2</td>\n",
       "      <td>2</td>\n",
       "      <td>NaN</td>\n",
       "      <td>NaN</td>\n",
       "      <td>NaN</td>\n",
       "      <td>NaN</td>\n",
       "      <td>NaN</td>\n",
       "      <td>3</td>\n",
       "      <td>2</td>\n",
       "    </tr>\n",
       "    <tr>\n",
       "      <th>top</th>\n",
       "      <td>LP002740</td>\n",
       "      <td>Male</td>\n",
       "      <td>Yes</td>\n",
       "      <td>0</td>\n",
       "      <td>Graduate</td>\n",
       "      <td>No</td>\n",
       "      <td>NaN</td>\n",
       "      <td>NaN</td>\n",
       "      <td>NaN</td>\n",
       "      <td>NaN</td>\n",
       "      <td>NaN</td>\n",
       "      <td>Semiurban</td>\n",
       "      <td>Y</td>\n",
       "    </tr>\n",
       "    <tr>\n",
       "      <th>freq</th>\n",
       "      <td>1</td>\n",
       "      <td>489</td>\n",
       "      <td>398</td>\n",
       "      <td>345</td>\n",
       "      <td>480</td>\n",
       "      <td>500</td>\n",
       "      <td>NaN</td>\n",
       "      <td>NaN</td>\n",
       "      <td>NaN</td>\n",
       "      <td>NaN</td>\n",
       "      <td>NaN</td>\n",
       "      <td>233</td>\n",
       "      <td>422</td>\n",
       "    </tr>\n",
       "    <tr>\n",
       "      <th>mean</th>\n",
       "      <td>NaN</td>\n",
       "      <td>NaN</td>\n",
       "      <td>NaN</td>\n",
       "      <td>NaN</td>\n",
       "      <td>NaN</td>\n",
       "      <td>NaN</td>\n",
       "      <td>5403.459283</td>\n",
       "      <td>1621.245798</td>\n",
       "      <td>146.412162</td>\n",
       "      <td>342.00000</td>\n",
       "      <td>0.842199</td>\n",
       "      <td>NaN</td>\n",
       "      <td>NaN</td>\n",
       "    </tr>\n",
       "    <tr>\n",
       "      <th>std</th>\n",
       "      <td>NaN</td>\n",
       "      <td>NaN</td>\n",
       "      <td>NaN</td>\n",
       "      <td>NaN</td>\n",
       "      <td>NaN</td>\n",
       "      <td>NaN</td>\n",
       "      <td>6109.041673</td>\n",
       "      <td>2926.248369</td>\n",
       "      <td>85.587325</td>\n",
       "      <td>65.12041</td>\n",
       "      <td>0.364878</td>\n",
       "      <td>NaN</td>\n",
       "      <td>NaN</td>\n",
       "    </tr>\n",
       "    <tr>\n",
       "      <th>min</th>\n",
       "      <td>NaN</td>\n",
       "      <td>NaN</td>\n",
       "      <td>NaN</td>\n",
       "      <td>NaN</td>\n",
       "      <td>NaN</td>\n",
       "      <td>NaN</td>\n",
       "      <td>150.000000</td>\n",
       "      <td>0.000000</td>\n",
       "      <td>9.000000</td>\n",
       "      <td>12.00000</td>\n",
       "      <td>0.000000</td>\n",
       "      <td>NaN</td>\n",
       "      <td>NaN</td>\n",
       "    </tr>\n",
       "    <tr>\n",
       "      <th>25%</th>\n",
       "      <td>NaN</td>\n",
       "      <td>NaN</td>\n",
       "      <td>NaN</td>\n",
       "      <td>NaN</td>\n",
       "      <td>NaN</td>\n",
       "      <td>NaN</td>\n",
       "      <td>2877.500000</td>\n",
       "      <td>0.000000</td>\n",
       "      <td>100.000000</td>\n",
       "      <td>360.00000</td>\n",
       "      <td>1.000000</td>\n",
       "      <td>NaN</td>\n",
       "      <td>NaN</td>\n",
       "    </tr>\n",
       "    <tr>\n",
       "      <th>50%</th>\n",
       "      <td>NaN</td>\n",
       "      <td>NaN</td>\n",
       "      <td>NaN</td>\n",
       "      <td>NaN</td>\n",
       "      <td>NaN</td>\n",
       "      <td>NaN</td>\n",
       "      <td>3812.500000</td>\n",
       "      <td>1188.500000</td>\n",
       "      <td>128.000000</td>\n",
       "      <td>360.00000</td>\n",
       "      <td>1.000000</td>\n",
       "      <td>NaN</td>\n",
       "      <td>NaN</td>\n",
       "    </tr>\n",
       "    <tr>\n",
       "      <th>75%</th>\n",
       "      <td>NaN</td>\n",
       "      <td>NaN</td>\n",
       "      <td>NaN</td>\n",
       "      <td>NaN</td>\n",
       "      <td>NaN</td>\n",
       "      <td>NaN</td>\n",
       "      <td>5795.000000</td>\n",
       "      <td>2297.250000</td>\n",
       "      <td>168.000000</td>\n",
       "      <td>360.00000</td>\n",
       "      <td>1.000000</td>\n",
       "      <td>NaN</td>\n",
       "      <td>NaN</td>\n",
       "    </tr>\n",
       "    <tr>\n",
       "      <th>max</th>\n",
       "      <td>NaN</td>\n",
       "      <td>NaN</td>\n",
       "      <td>NaN</td>\n",
       "      <td>NaN</td>\n",
       "      <td>NaN</td>\n",
       "      <td>NaN</td>\n",
       "      <td>81000.000000</td>\n",
       "      <td>41667.000000</td>\n",
       "      <td>700.000000</td>\n",
       "      <td>480.00000</td>\n",
       "      <td>1.000000</td>\n",
       "      <td>NaN</td>\n",
       "      <td>NaN</td>\n",
       "    </tr>\n",
       "  </tbody>\n",
       "</table>\n",
       "</div>"
      ],
      "text/plain": [
       "         Loan_ID Gender Married Dependents Education Self_Employed  \\\n",
       "count        614    601     611        599       614           582   \n",
       "unique       614      2       2          4         2             2   \n",
       "top     LP002740   Male     Yes          0  Graduate            No   \n",
       "freq           1    489     398        345       480           500   \n",
       "mean         NaN    NaN     NaN        NaN       NaN           NaN   \n",
       "std          NaN    NaN     NaN        NaN       NaN           NaN   \n",
       "min          NaN    NaN     NaN        NaN       NaN           NaN   \n",
       "25%          NaN    NaN     NaN        NaN       NaN           NaN   \n",
       "50%          NaN    NaN     NaN        NaN       NaN           NaN   \n",
       "75%          NaN    NaN     NaN        NaN       NaN           NaN   \n",
       "max          NaN    NaN     NaN        NaN       NaN           NaN   \n",
       "\n",
       "        ApplicantIncome  CoapplicantIncome  LoanAmount  Loan_Amount_Term  \\\n",
       "count        614.000000         614.000000  592.000000         600.00000   \n",
       "unique              NaN                NaN         NaN               NaN   \n",
       "top                 NaN                NaN         NaN               NaN   \n",
       "freq                NaN                NaN         NaN               NaN   \n",
       "mean        5403.459283        1621.245798  146.412162         342.00000   \n",
       "std         6109.041673        2926.248369   85.587325          65.12041   \n",
       "min          150.000000           0.000000    9.000000          12.00000   \n",
       "25%         2877.500000           0.000000  100.000000         360.00000   \n",
       "50%         3812.500000        1188.500000  128.000000         360.00000   \n",
       "75%         5795.000000        2297.250000  168.000000         360.00000   \n",
       "max        81000.000000       41667.000000  700.000000         480.00000   \n",
       "\n",
       "        Credit_History Property_Area Loan_Status  \n",
       "count       564.000000           614         614  \n",
       "unique             NaN             3           2  \n",
       "top                NaN     Semiurban           Y  \n",
       "freq               NaN           233         422  \n",
       "mean          0.842199           NaN         NaN  \n",
       "std           0.364878           NaN         NaN  \n",
       "min           0.000000           NaN         NaN  \n",
       "25%           1.000000           NaN         NaN  \n",
       "50%           1.000000           NaN         NaN  \n",
       "75%           1.000000           NaN         NaN  \n",
       "max           1.000000           NaN         NaN  "
      ]
     },
     "execution_count": 15,
     "metadata": {},
     "output_type": "execute_result"
    }
   ],
   "source": [
    "train.describe(include='all')"
   ]
  },
  {
   "cell_type": "code",
   "execution_count": 16,
   "metadata": {},
   "outputs": [
    {
     "data": {
      "text/html": [
       "<div>\n",
       "<table border=\"1\" class=\"dataframe\">\n",
       "  <thead>\n",
       "    <tr style=\"text-align: right;\">\n",
       "      <th></th>\n",
       "      <th>Loan_ID</th>\n",
       "      <th>Gender</th>\n",
       "      <th>Married</th>\n",
       "      <th>Dependents</th>\n",
       "      <th>Education</th>\n",
       "      <th>Self_Employed</th>\n",
       "      <th>ApplicantIncome</th>\n",
       "      <th>CoapplicantIncome</th>\n",
       "      <th>LoanAmount</th>\n",
       "      <th>Loan_Amount_Term</th>\n",
       "      <th>Credit_History</th>\n",
       "      <th>Property_Area</th>\n",
       "      <th>Loan_Status</th>\n",
       "    </tr>\n",
       "  </thead>\n",
       "  <tbody>\n",
       "    <tr>\n",
       "      <th>0</th>\n",
       "      <td>LP001002</td>\n",
       "      <td>Male</td>\n",
       "      <td>No</td>\n",
       "      <td>0</td>\n",
       "      <td>Graduate</td>\n",
       "      <td>No</td>\n",
       "      <td>5849</td>\n",
       "      <td>0.0</td>\n",
       "      <td>NaN</td>\n",
       "      <td>360.0</td>\n",
       "      <td>1.0</td>\n",
       "      <td>Urban</td>\n",
       "      <td>Y</td>\n",
       "    </tr>\n",
       "    <tr>\n",
       "      <th>1</th>\n",
       "      <td>LP001003</td>\n",
       "      <td>Male</td>\n",
       "      <td>Yes</td>\n",
       "      <td>1</td>\n",
       "      <td>Graduate</td>\n",
       "      <td>No</td>\n",
       "      <td>4583</td>\n",
       "      <td>1508.0</td>\n",
       "      <td>128.0</td>\n",
       "      <td>360.0</td>\n",
       "      <td>1.0</td>\n",
       "      <td>Rural</td>\n",
       "      <td>N</td>\n",
       "    </tr>\n",
       "    <tr>\n",
       "      <th>2</th>\n",
       "      <td>LP001005</td>\n",
       "      <td>Male</td>\n",
       "      <td>Yes</td>\n",
       "      <td>0</td>\n",
       "      <td>Graduate</td>\n",
       "      <td>Yes</td>\n",
       "      <td>3000</td>\n",
       "      <td>0.0</td>\n",
       "      <td>66.0</td>\n",
       "      <td>360.0</td>\n",
       "      <td>1.0</td>\n",
       "      <td>Urban</td>\n",
       "      <td>Y</td>\n",
       "    </tr>\n",
       "    <tr>\n",
       "      <th>3</th>\n",
       "      <td>LP001006</td>\n",
       "      <td>Male</td>\n",
       "      <td>Yes</td>\n",
       "      <td>0</td>\n",
       "      <td>Not Graduate</td>\n",
       "      <td>No</td>\n",
       "      <td>2583</td>\n",
       "      <td>2358.0</td>\n",
       "      <td>120.0</td>\n",
       "      <td>360.0</td>\n",
       "      <td>1.0</td>\n",
       "      <td>Urban</td>\n",
       "      <td>Y</td>\n",
       "    </tr>\n",
       "    <tr>\n",
       "      <th>4</th>\n",
       "      <td>LP001008</td>\n",
       "      <td>Male</td>\n",
       "      <td>No</td>\n",
       "      <td>0</td>\n",
       "      <td>Graduate</td>\n",
       "      <td>No</td>\n",
       "      <td>6000</td>\n",
       "      <td>0.0</td>\n",
       "      <td>141.0</td>\n",
       "      <td>360.0</td>\n",
       "      <td>1.0</td>\n",
       "      <td>Urban</td>\n",
       "      <td>Y</td>\n",
       "    </tr>\n",
       "  </tbody>\n",
       "</table>\n",
       "</div>"
      ],
      "text/plain": [
       "    Loan_ID Gender Married Dependents     Education Self_Employed  \\\n",
       "0  LP001002   Male      No          0      Graduate            No   \n",
       "1  LP001003   Male     Yes          1      Graduate            No   \n",
       "2  LP001005   Male     Yes          0      Graduate           Yes   \n",
       "3  LP001006   Male     Yes          0  Not Graduate            No   \n",
       "4  LP001008   Male      No          0      Graduate            No   \n",
       "\n",
       "   ApplicantIncome  CoapplicantIncome  LoanAmount  Loan_Amount_Term  \\\n",
       "0             5849                0.0         NaN             360.0   \n",
       "1             4583             1508.0       128.0             360.0   \n",
       "2             3000                0.0        66.0             360.0   \n",
       "3             2583             2358.0       120.0             360.0   \n",
       "4             6000                0.0       141.0             360.0   \n",
       "\n",
       "   Credit_History Property_Area Loan_Status  \n",
       "0             1.0         Urban           Y  \n",
       "1             1.0         Rural           N  \n",
       "2             1.0         Urban           Y  \n",
       "3             1.0         Urban           Y  \n",
       "4             1.0         Urban           Y  "
      ]
     },
     "execution_count": 16,
     "metadata": {},
     "output_type": "execute_result"
    }
   ],
   "source": [
    "train.head()"
   ]
  },
  {
   "cell_type": "markdown",
   "metadata": {
    "scrolled": true
   },
   "source": [
    "A lot of missing values. I think that the score could be improved by careful imputation of missing values for important features."
   ]
  },
  {
   "cell_type": "markdown",
   "metadata": {},
   "source": [
    "### <a name='loan'>Loan_ID</a>"
   ]
  },
  {
   "cell_type": "code",
   "execution_count": 17,
   "metadata": {},
   "outputs": [],
   "source": [
    "rain.drop(['Loan_ID'], axis=1, inplace=True)\n",
    "test_id = test.Loan_ID\n",
    "test.drop(['Loan_ID'], axis=1, inplace=True)"
   ]
  },
  {
   "cell_type": "markdown",
   "metadata": {},
   "source": [
    "### <a name='gender'>Gender</a>"
   ]
  },
  {
   "cell_type": "code",
   "execution_count": 18,
   "metadata": {
    "scrolled": true
   },
   "outputs": [
    {
     "data": {
      "text/plain": [
       "Male      489\n",
       "Female    112\n",
       "Name: Gender, dtype: int64"
      ]
     },
     "execution_count": 18,
     "metadata": {},
     "output_type": "execute_result"
    }
   ],
   "source": [
    "train.Gender.value_counts()"
   ]
  },
  {
   "cell_type": "code",
   "execution_count": 19,
   "metadata": {},
   "outputs": [
    {
     "data": {
      "text/plain": [
       "<matplotlib.axes._subplots.AxesSubplot at 0x1c49ea22e48>"
      ]
     },
     "execution_count": 19,
     "metadata": {},
     "output_type": "execute_result"
    },
    {
     "data": {
      "image/png": "[encoded data removed]",
      "text/plain": [
       "<matplotlib.figure.Figure at 0x1c49e9af780>"
      ]
     },
     "metadata": {},
     "output_type": "display_data"
    }
   ],
   "source": [
    "sns.stripplot(x=\"Gender\", y=\"ApplicantIncome\", data=train, hue='Loan_Status', jitter=True)"
   ]
  },
  {
   "cell_type": "markdown",
   "metadata": {},
   "source": [
    "Much more men than women in the dataset.\n"
   ]
  },
  {
   "cell_type": "code",
   "execution_count": 20,
   "metadata": {},
   "outputs": [
    {
     "data": {
      "text/plain": [
       "<matplotlib.axes._subplots.AxesSubplot at 0x1c49facb940>"
      ]
     },
     "execution_count": 20,
     "metadata": {},
     "output_type": "execute_result"
    },
    {
     "data": {
      "image/png": "[encoded data removed]",
      "text/plain": [
       "<matplotlib.figure.Figure at 0x1c49fb44860>"
      ]
     },
     "metadata": {},
     "output_type": "display_data"
    }
   ],
   "source": [
    "sns.boxplot(x='Gender', y='ApplicantIncome',  data=train.loc[train.ApplicantIncome < 25000])"
   ]
  },
  {
   "cell_type": "markdown",
   "metadata": {},
   "source": [
    "In this boxplot I showed distribution of income between genders with income < 25000, as only men have higher income. The difference of income isn't high."
   ]
  },
  {
   "cell_type": "code",
   "execution_count": 21,
   "metadata": {},
   "outputs": [
    {
     "data": {
      "text/plain": [
       "Gender  Loan_Status\n",
       "Female  Y              0.669643\n",
       "        N              0.330357\n",
       "Male    Y              0.693252\n",
       "        N              0.306748\n",
       "Name: Loan_Status, dtype: float64"
      ]
     },
     "execution_count": 21,
     "metadata": {},
     "output_type": "execute_result"
    }
   ],
   "source": [
    "train.groupby(['Gender'])['Loan_Status'].value_counts(normalize=True)"
   ]
  },
  {
   "cell_type": "markdown",
   "metadata": {},
   "source": [
    "And little impact on Loan Status."
   ]
  },
  {
   "cell_type": "code",
   "execution_count": 22,
   "metadata": {
    "scrolled": true
   },
   "outputs": [
    {
     "data": {
      "text/plain": [
       "<seaborn.axisgrid.FacetGrid at 0x1c49e9bf198>"
      ]
     },
     "execution_count": 22,
     "metadata": {},
     "output_type": "execute_result"
    },
    {
     "data": {
      "image/png": "[encoded data removed]",
      "text/plain": [
       "<matplotlib.figure.Figure at 0x1c49fa85eb8>"
      ]
     },
     "metadata": {},
     "output_type": "display_data"
    }
   ],
   "source": [
    "sns.factorplot(x=\"Credit_History\", hue=\"Loan_Status\", col=\"Gender\", data=train, kind=\"count\")"
   ]
  },
  {
   "cell_type": "markdown",
   "metadata": {},
   "source": [
    "Cosidering all this information I'll fill nan with the most common value."
   ]
  },
  {
   "cell_type": "code",
   "execution_count": 23,
   "metadata": {},
   "outputs": [],
   "source": [
    "train['Gender'].fillna('Male', inplace=True)\n",
    "test['Gender'].fillna('Male', inplace=True)"
   ]
  },
  {
   "cell_type": "markdown",
   "metadata": {},
   "source": [
    "### <a name='married'>Married</a>"
   ]
  },
  {
   "cell_type": "code",
   "execution_count": 24,
   "metadata": {},
   "outputs": [
    {
     "data": {
      "text/plain": [
       "Yes    398\n",
       "No     213\n",
       "Name: Married, dtype: int64"
      ]
     },
     "execution_count": 24,
     "metadata": {},
     "output_type": "execute_result"
    }
   ],
   "source": [
    "train.Married.value_counts()"
   ]
  },
  {
   "cell_type": "code",
   "execution_count": 25,
   "metadata": {},
   "outputs": [
    {
     "data": {
      "text/html": [
       "<div>\n",
       "<table border=\"1\" class=\"dataframe\">\n",
       "  <thead>\n",
       "    <tr style=\"text-align: right;\">\n",
       "      <th>Loan_Status</th>\n",
       "      <th>N</th>\n",
       "      <th>Y</th>\n",
       "    </tr>\n",
       "    <tr>\n",
       "      <th>Married</th>\n",
       "      <th></th>\n",
       "      <th></th>\n",
       "    </tr>\n",
       "  </thead>\n",
       "  <tbody>\n",
       "    <tr>\n",
       "      <th>No</th>\n",
       "      <td>79</td>\n",
       "      <td>134</td>\n",
       "    </tr>\n",
       "    <tr>\n",
       "      <th>Yes</th>\n",
       "      <td>113</td>\n",
       "      <td>285</td>\n",
       "    </tr>\n",
       "  </tbody>\n",
       "</table>\n",
       "</div>"
      ],
      "text/plain": [
       "Loan_Status    N    Y\n",
       "Married              \n",
       "No            79  134\n",
       "Yes          113  285"
      ]
     },
     "execution_count": 25,
     "metadata": {},
     "output_type": "execute_result"
    }
   ],
   "source": [
    "pd.crosstab(train.Married, train.Loan_Status)"
   ]
  },
  {
   "cell_type": "code",
   "execution_count": 26,
   "metadata": {},
   "outputs": [
    {
     "data": {
      "text/plain": [
       "Gender  Married\n",
       "Female  No         0.720721\n",
       "        Yes        0.279279\n",
       "Male    Yes        0.734000\n",
       "        No         0.266000\n",
       "Name: Married, dtype: float64"
      ]
     },
     "execution_count": 26,
     "metadata": {},
     "output_type": "execute_result"
    }
   ],
   "source": [
    "train.groupby(['Gender'])['Married'].value_counts(normalize=True)"
   ]
  },
  {
   "cell_type": "code",
   "execution_count": 27,
   "metadata": {
    "scrolled": true
   },
   "outputs": [
    {
     "data": {
      "text/plain": [
       "<seaborn.axisgrid.FacetGrid at 0x1c49ffa3908>"
      ]
     },
     "execution_count": 27,
     "metadata": {},
     "output_type": "execute_result"
    },
    {
     "data": {
      "image/png": "[encoded data removed]",
      "text/plain": [
       "<matplotlib.figure.Figure at 0x1c49fbdf240>"
      ]
     },
     "metadata": {},
     "output_type": "display_data"
    }
   ],
   "source": [
    "sns.factorplot(x=\"Married\", hue=\"Loan_Status\", col=\"Gender\", data=train, kind=\"count\")"
   ]
  },
  {
   "cell_type": "markdown",
   "metadata": {},
   "source": [
    "Women are less likely to be married than men."
   ]
  },
  {
   "cell_type": "code",
   "execution_count": 28,
   "metadata": {},
   "outputs": [
    {
     "data": {
      "text/html": [
       "<div>\n",
       "<table border=\"1\" class=\"dataframe\">\n",
       "  <thead>\n",
       "    <tr style=\"text-align: right;\">\n",
       "      <th></th>\n",
       "      <th>Gender</th>\n",
       "      <th>Married</th>\n",
       "      <th>Dependents</th>\n",
       "      <th>Education</th>\n",
       "      <th>Self_Employed</th>\n",
       "      <th>ApplicantIncome</th>\n",
       "      <th>CoapplicantIncome</th>\n",
       "      <th>LoanAmount</th>\n",
       "      <th>Loan_Amount_Term</th>\n",
       "      <th>Credit_History</th>\n",
       "      <th>Property_Area</th>\n",
       "      <th>Loan_Status</th>\n",
       "    </tr>\n",
       "  </thead>\n",
       "  <tbody>\n",
       "    <tr>\n",
       "      <th>104</th>\n",
       "      <td>Male</td>\n",
       "      <td>NaN</td>\n",
       "      <td>NaN</td>\n",
       "      <td>Graduate</td>\n",
       "      <td>No</td>\n",
       "      <td>3816</td>\n",
       "      <td>754.0</td>\n",
       "      <td>160.0</td>\n",
       "      <td>360.0</td>\n",
       "      <td>1.0</td>\n",
       "      <td>Urban</td>\n",
       "      <td>Y</td>\n",
       "    </tr>\n",
       "    <tr>\n",
       "      <th>228</th>\n",
       "      <td>Male</td>\n",
       "      <td>NaN</td>\n",
       "      <td>NaN</td>\n",
       "      <td>Graduate</td>\n",
       "      <td>No</td>\n",
       "      <td>4758</td>\n",
       "      <td>0.0</td>\n",
       "      <td>158.0</td>\n",
       "      <td>480.0</td>\n",
       "      <td>1.0</td>\n",
       "      <td>Semiurban</td>\n",
       "      <td>Y</td>\n",
       "    </tr>\n",
       "    <tr>\n",
       "      <th>435</th>\n",
       "      <td>Female</td>\n",
       "      <td>NaN</td>\n",
       "      <td>NaN</td>\n",
       "      <td>Graduate</td>\n",
       "      <td>No</td>\n",
       "      <td>10047</td>\n",
       "      <td>0.0</td>\n",
       "      <td>NaN</td>\n",
       "      <td>240.0</td>\n",
       "      <td>1.0</td>\n",
       "      <td>Semiurban</td>\n",
       "      <td>Y</td>\n",
       "    </tr>\n",
       "  </tbody>\n",
       "</table>\n",
       "</div>"
      ],
      "text/plain": [
       "     Gender Married Dependents Education Self_Employed  ApplicantIncome  \\\n",
       "104    Male     NaN        NaN  Graduate            No             3816   \n",
       "228    Male     NaN        NaN  Graduate            No             4758   \n",
       "435  Female     NaN        NaN  Graduate            No            10047   \n",
       "\n",
       "     CoapplicantIncome  LoanAmount  Loan_Amount_Term  Credit_History  \\\n",
       "104              754.0       160.0             360.0             1.0   \n",
       "228                0.0       158.0             480.0             1.0   \n",
       "435                0.0         NaN             240.0             1.0   \n",
       "\n",
       "    Property_Area Loan_Status  \n",
       "104         Urban           Y  \n",
       "228     Semiurban           Y  \n",
       "435     Semiurban           Y  "
      ]
     },
     "execution_count": 28,
     "metadata": {},
     "output_type": "execute_result"
    }
   ],
   "source": [
    "train.loc[train.Married.isnull() == True]"
   ]
  },
  {
   "cell_type": "markdown",
   "metadata": {},
   "source": [
    "Two men and one woman. Fillna with most common value for gender."
   ]
  },
  {
   "cell_type": "code",
   "execution_count": 29,
   "metadata": {
    "collapsed": true
   },
   "outputs": [],
   "source": [
    "train.loc[(train.Gender == 'Male') & (train.Married.isnull() == True), 'Married'] = 'Yes'\n",
    "train.loc[(train.Gender == 'Female') & (train.Married.isnull() == True), 'Married'] = 'No'"
   ]
  },
  {
   "cell_type": "markdown",
   "metadata": {},
   "source": [
    "### <a name='depend'>Dependents</a>"
   ]
  },
  {
   "cell_type": "code",
   "execution_count": 30,
   "metadata": {},
   "outputs": [
    {
     "data": {
      "text/plain": [
       "0     345\n",
       "1     102\n",
       "2     101\n",
       "3+     51\n",
       "Name: Dependents, dtype: int64"
      ]
     },
     "execution_count": 30,
     "metadata": {},
     "output_type": "execute_result"
    }
   ],
   "source": [
    "train.Dependents.value_counts()"
   ]
  },
  {
   "cell_type": "code",
   "execution_count": 31,
   "metadata": {},
   "outputs": [
    {
     "data": {
      "text/plain": [
       "Dependents  Loan_Status\n",
       "0           Y              0.689855\n",
       "            N              0.310145\n",
       "1           Y              0.647059\n",
       "            N              0.352941\n",
       "2           Y              0.752475\n",
       "            N              0.247525\n",
       "3+          Y              0.647059\n",
       "            N              0.352941\n",
       "Name: Loan_Status, dtype: float64"
      ]
     },
     "execution_count": 31,
     "metadata": {},
     "output_type": "execute_result"
    }
   ],
   "source": [
    "train.groupby(['Dependents'])['Loan_Status'].value_counts(normalize=True)"
   ]
  },
  {
   "cell_type": "code",
   "execution_count": 32,
   "metadata": {},
   "outputs": [
    {
     "data": {
      "text/plain": [
       "<seaborn.axisgrid.FacetGrid at 0x1c4a1073a90>"
      ]
     },
     "execution_count": 32,
     "metadata": {},
     "output_type": "execute_result"
    },
    {
     "data": {
      "image/png": "[encoded data removed]",
      "text/plain": [
       "<matplotlib.figure.Figure at 0x1c4a1073da0>"
      ]
     },
     "metadata": {},
     "output_type": "display_data"
    }
   ],
   "source": [
    "sns.factorplot(\"Loan_Status\", col=\"Dependents\", col_wrap=4, data=train, kind=\"count\", size=2.4, aspect=.8)"
   ]
  },
  {
   "cell_type": "markdown",
   "metadata": {},
   "source": [
    "Most common number of Dependents is zero. And people having 2 Dependents are more likely to get the loan."
   ]
  },
  {
   "cell_type": "code",
   "execution_count": 33,
   "metadata": {
    "scrolled": true
   },
   "outputs": [
    {
     "data": {
      "text/plain": [
       "Gender  Married  Property_Area  Dependents\n",
       "Female  No       Rural          0             0.842105\n",
       "                                1             0.105263\n",
       "                                3+            0.052632\n",
       "                 Semiurban      0             0.735294\n",
       "                                1             0.235294\n",
       "                                2             0.029412\n",
       "                 Urban          0             0.760000\n",
       "                                1             0.120000\n",
       "                                3+            0.080000\n",
       "                                2             0.040000\n",
       "        Yes      Rural          0             1.000000\n",
       "                 Semiurban      0             0.650000\n",
       "                                1             0.200000\n",
       "                                2             0.150000\n",
       "                 Urban          0             0.333333\n",
       "                                1             0.333333\n",
       "                                2             0.333333\n",
       "Male    No       Rural          0             0.840909\n",
       "                                2             0.090909\n",
       "                                3+            0.045455\n",
       "                                1             0.022727\n",
       "                 Semiurban      0             0.822222\n",
       "                                1             0.088889\n",
       "                                2             0.044444\n",
       "                                3+            0.044444\n",
       "                 Urban          0             0.880952\n",
       "                                1             0.119048\n",
       "        Yes      Rural          0             0.467890\n",
       "                                2             0.229358\n",
       "                                1             0.165138\n",
       "                                3+            0.137615\n",
       "                 Semiurban      0             0.429688\n",
       "                                2             0.242188\n",
       "                                1             0.187500\n",
       "                                3+            0.140625\n",
       "                 Urban          0             0.393443\n",
       "                                2             0.262295\n",
       "                                1             0.254098\n",
       "                                3+            0.090164\n",
       "Name: Dependents, dtype: float64"
      ]
     },
     "execution_count": 33,
     "metadata": {},
     "output_type": "execute_result"
    }
   ],
   "source": [
    "train.groupby(['Gender', 'Married', 'Property_Area'])['Dependents'].value_counts(normalize=True)"
   ]
  },
  {
   "cell_type": "markdown",
   "metadata": {},
   "source": [
    "But even with grouping zero dependents is the most common value, so I'll use it to fill nan."
   ]
  },
  {
   "cell_type": "code",
   "execution_count": 34,
   "metadata": {
    "scrolled": true
   },
   "outputs": [],
   "source": [
    "train['Dependents'] = train['Dependents'].fillna(train['Dependents'].mode().iloc[0])\n",
    "test['Dependents'] = test['Dependents'].fillna(test['Dependents'].mode().iloc[0])"
   ]
  },
  {
   "cell_type": "markdown",
   "metadata": {},
   "source": [
    "### <a name='Education'>Education</a>"
   ]
  },
  {
   "cell_type": "code",
   "execution_count": 35,
   "metadata": {},
   "outputs": [
    {
     "data": {
      "text/plain": [
       "<seaborn.axisgrid.FacetGrid at 0x1c4a108d3c8>"
      ]
     },
     "execution_count": 35,
     "metadata": {},
     "output_type": "execute_result"
    },
    {
     "data": {
      "image/png": "[encoded data removed]",
      "text/plain": [
       "<matplotlib.figure.Figure at 0x1c4a111a198>"
      ]
     },
     "metadata": {},
     "output_type": "display_data"
    }
   ],
   "source": [
    "sns.factorplot(x=\"Education\", hue=\"Loan_Status\", data=train, kind=\"count\")"
   ]
  },
  {
   "cell_type": "markdown",
   "metadata": {},
   "source": [
    "It isn't surprising that graduates have more chances to get the loan."
   ]
  },
  {
   "cell_type": "markdown",
   "metadata": {},
   "source": [
    "### <a name='Self_Employed'>Self_Employed</a>"
   ]
  },
  {
   "cell_type": "code",
   "execution_count": 36,
   "metadata": {},
   "outputs": [
    {
     "data": {
      "text/plain": [
       "Self_Employed  Loan_Status\n",
       "No             Y              0.686000\n",
       "               N              0.314000\n",
       "Yes            Y              0.682927\n",
       "               N              0.317073\n",
       "Name: Loan_Status, dtype: float64"
      ]
     },
     "execution_count": 36,
     "metadata": {},
     "output_type": "execute_result"
    }
   ],
   "source": [
    "train.groupby(['Self_Employed'])['Loan_Status'].value_counts(normalize=True)"
   ]
  },
  {
   "cell_type": "code",
   "execution_count": 37,
   "metadata": {},
   "outputs": [
    {
     "data": {
      "text/plain": [
       "<seaborn.axisgrid.FacetGrid at 0x1c4a12054a8>"
      ]
     },
     "execution_count": 37,
     "metadata": {},
     "output_type": "execute_result"
    },
    {
     "data": {
      "image/png": "[encoded data removed]",
      "text/plain": [
       "<matplotlib.figure.Figure at 0x1c4a1202cf8>"
      ]
     },
     "metadata": {},
     "output_type": "display_data"
    }
   ],
   "source": [
    "sns.factorplot(\"Loan_Status\", col=\"Self_Employed\", col_wrap=4, data=train, kind=\"count\", size=2.4, aspect=.8)"
   ]
  },
  {
   "cell_type": "markdown",
   "metadata": {},
   "source": [
    "It seems that it doesn't really matter whether the customer is Self Employed or not."
   ]
  },
  {
   "cell_type": "code",
   "execution_count": 38,
   "metadata": {
    "scrolled": true
   },
   "outputs": [
    {
     "data": {
      "text/plain": [
       "Education     Married  Dependents  Gender  Property_Area   \n",
       "Graduate      No       0           Female  Rural          0     No\n",
       "                                           Semiurban      0     No\n",
       "                                           Urban          0     No\n",
       "                                   Male    Rural          0     No\n",
       "                                           Semiurban      0     No\n",
       "                                           Urban          0     No\n",
       "                       1           Female  Semiurban      0     No\n",
       "                                           Urban          0     No\n",
       "                                   Male    Semiurban      0     No\n",
       "                                           Urban          0     No\n",
       "                       2           Male    Rural          0     No\n",
       "                                           Semiurban      0     No\n",
       "                       3+          Male    Rural          0     No\n",
       "              Yes      0           Female  Rural          0     No\n",
       "                                           Semiurban      0     No\n",
       "                                           Urban          0     No\n",
       "                                   Male    Rural          0     No\n",
       "                                           Semiurban      0     No\n",
       "                                           Urban          0     No\n",
       "                       1           Female  Semiurban      0     No\n",
       "                                   Male    Rural          0     No\n",
       "                                           Semiurban      0     No\n",
       "                                           Urban          0     No\n",
       "                       2           Female  Semiurban      0     No\n",
       "                                           Urban          0     No\n",
       "                                   Male    Rural          0    Yes\n",
       "                                           Semiurban      0     No\n",
       "                                           Urban          0     No\n",
       "                       3+          Male    Rural          0     No\n",
       "                                           Semiurban      0     No\n",
       "                                           Urban          0     No\n",
       "Not Graduate  No       0           Female  Rural          0     No\n",
       "                                           Semiurban      0     No\n",
       "                                           Urban          0     No\n",
       "                                   Male    Rural          0     No\n",
       "                                           Semiurban      0     No\n",
       "                                           Urban          0     No\n",
       "              Yes      0           Female  Semiurban      0     No\n",
       "                                   Male    Rural          0     No\n",
       "                                           Semiurban      0     No\n",
       "                                           Urban          0     No\n",
       "                       1           Male    Rural          0     No\n",
       "                                           Semiurban      0     No\n",
       "                                           Urban          0     No\n",
       "                       2           Male    Rural          0     No\n",
       "                                           Semiurban      0     No\n",
       "                                           Urban          0     No\n",
       "                       3+          Male    Rural          0     No\n",
       "                                           Semiurban      0     No\n",
       "                                           Urban          0     No\n",
       "Name: Self_Employed, dtype: object"
      ]
     },
     "execution_count": 38,
     "metadata": {},
     "output_type": "execute_result"
    }
   ],
   "source": [
    "train.groupby(['Education', 'Married', 'Dependents', 'Gender', 'Property_Area'])['Self_Employed'].apply(lambda x: x.mode())"
   ]
  },
  {
   "cell_type": "markdown",
   "metadata": {},
   "source": [
    "I thought that this grouping makes sense, but there is only one case when most common value is \"Yes\". In other cases 'Not' is more common."
   ]
  },
  {
   "cell_type": "code",
   "execution_count": 39,
   "metadata": {},
   "outputs": [],
   "source": [
    "train.loc[(train.Education == 'Graduate') & (train.Married == 'Yes')\n",
    "          & (train.Dependents == '2') & (train.Gender == 'Male') & (train.Property_Area == 'Urban')\n",
    "          & (train.Self_Employed.isnull() == True), 'Self_Employed'] = 'Yes'\n",
    "test.loc[(test.Education == 'Graduate') & (test.Married == 'Yes')\n",
    "         & (test.Dependents == '2') & (test.Gender == 'Male') & (test.Property_Area == 'Urban')\n",
    "         & (test.Self_Employed.isnull() == True), 'Self_Employed'] = 'Yes'\n",
    "train['Self_Employed'].fillna('No', inplace=True)\n",
    "test['Self_Employed'].fillna('No', inplace=True)"
   ]
  },
  {
   "cell_type": "markdown",
   "metadata": {},
   "source": [
    "### <a name='ApplicantIncome'>ApplicantIncome</a>"
   ]
  },
  {
   "cell_type": "code",
   "execution_count": 40,
   "metadata": {},
   "outputs": [
    {
     "data": {
      "text/plain": [
       "<matplotlib.axes._subplots.AxesSubplot at 0x1c4a1311438>"
      ]
     },
     "execution_count": 40,
     "metadata": {},
     "output_type": "execute_result"
    },
    {
     "data": {
      "image/png": "[encoded data removed]",
      "text/plain": [
       "<matplotlib.figure.Figure at 0x1c4a1326ba8>"
      ]
     },
     "metadata": {},
     "output_type": "display_data"
    }
   ],
   "source": [
    "sns.distplot(train['ApplicantIncome'], kde=False, color='c', hist_kws={'alpha': 0.9})"
   ]
  },
  {
   "cell_type": "markdown",
   "metadata": {},
   "source": [
    "The values are highly skewered. Logarithm of data looks better."
   ]
  },
  {
   "cell_type": "code",
   "execution_count": 41,
   "metadata": {
    "scrolled": false
   },
   "outputs": [
    {
     "data": {
      "text/plain": [
       "<matplotlib.axes._subplots.AxesSubplot at 0x1c4a1374c18>"
      ]
     },
     "execution_count": 41,
     "metadata": {},
     "output_type": "execute_result"
    },
    {
     "data": {
      "image/png": "[encoded data removed]",
      "text/plain": [
       "<matplotlib.figure.Figure at 0x1c4a1406320>"
      ]
     },
     "metadata": {},
     "output_type": "display_data"
    }
   ],
   "source": [
    "sns.distplot(np.log1p(train['ApplicantIncome']), kde=False, color='c', hist_kws={'alpha': 0.9})"
   ]
  },
  {
   "cell_type": "markdown",
   "metadata": {},
   "source": [
    "I think that maybe income could be divided in several groups, and there groups could have various rates of getting loan. I begin with 10 groups and if some groups have much higher/lower rate, then groups could be combined."
   ]
  },
  {
   "cell_type": "code",
   "execution_count": 42,
   "metadata": {},
   "outputs": [],
   "source": [
    "train['Income_group'] = pd.qcut(train.ApplicantIncome, 10, labels=[0,1,2,3,4,5,6,7,8,9])\n",
    "test['Income_group'] = pd.qcut(test.ApplicantIncome, 10, labels=[0,1,2,3,4,5,6,7,8,9])"
   ]
  },
  {
   "cell_type": "code",
   "execution_count": 43,
   "metadata": {
    "scrolled": true
   },
   "outputs": [],
   "source": [
    "train['Income_group'] = train['Income_group'].astype(str)\n",
    "test['Income_group'] = test['Income_group'].astype(str)"
   ]
  },
  {
   "cell_type": "code",
   "execution_count": 44,
   "metadata": {
    "scrolled": true
   },
   "outputs": [
    {
     "data": {
      "text/plain": [
       "Income_group  Loan_Status\n",
       "0             Y              0.661290\n",
       "              N              0.338710\n",
       "1             Y              0.721311\n",
       "              N              0.278689\n",
       "2             Y              0.704918\n",
       "              N              0.295082\n",
       "3             Y              0.709677\n",
       "              N              0.290323\n",
       "4             Y              0.639344\n",
       "              N              0.360656\n",
       "5             Y              0.737705\n",
       "              N              0.262295\n",
       "6             Y              0.612903\n",
       "              N              0.387097\n",
       "7             Y              0.721311\n",
       "              N              0.278689\n",
       "8             Y              0.688525\n",
       "              N              0.311475\n",
       "9             Y              0.677419\n",
       "              N              0.322581\n",
       "Name: Loan_Status, dtype: float64"
      ]
     },
     "execution_count": 44,
     "metadata": {},
     "output_type": "execute_result"
    }
   ],
   "source": [
    "train.groupby(['Income_group'])['Loan_Status'].value_counts(normalize=True)"
   ]
  },
  {
   "cell_type": "markdown",
   "metadata": {},
   "source": [
    "This doesn't seem to be a good feature sadly. We'll see later."
   ]
  },
  {
   "cell_type": "markdown",
   "metadata": {},
   "source": [
    "### <a name='CoapplicantIncome'>CoapplicantIncome</a>"
   ]
  },
  {
   "cell_type": "code",
   "execution_count": 45,
   "metadata": {},
   "outputs": [
    {
     "data": {
      "text/plain": [
       "<matplotlib.axes._subplots.AxesSubplot at 0x1c4a14f10f0>"
      ]
     },
     "execution_count": 45,
     "metadata": {},
     "output_type": "execute_result"
    },
    {
     "data": {
      "image/png": "[encoded data removed]",
      "text/plain": [
       "<matplotlib.figure.Figure at 0x1c4a14f7a90>"
      ]
     },
     "metadata": {},
     "output_type": "display_data"
    }
   ],
   "source": [
    "sns.distplot(train['CoapplicantIncome'], kde=False, color='c', hist_kws={'alpha': 0.9})"
   ]
  },
  {
   "cell_type": "code",
   "execution_count": 46,
   "metadata": {},
   "outputs": [
    {
     "data": {
      "text/plain": [
       "<matplotlib.axes._subplots.AxesSubplot at 0x1c4a15cf1d0>"
      ]
     },
     "execution_count": 46,
     "metadata": {},
     "output_type": "execute_result"
    },
    {
     "data": {
      "image/png": "[encoded data removed]",
      "text/plain": [
       "<matplotlib.figure.Figure at 0x1c4a15e8c50>"
      ]
     },
     "metadata": {},
     "output_type": "display_data"
    }
   ],
   "source": [
    "sns.distplot(np.log1p(train['CoapplicantIncome']), kde=False, color='c', hist_kws={'alpha': 0.9})"
   ]
  },
  {
   "cell_type": "markdown",
   "metadata": {},
   "source": [
    "This variable is also skewered, but logarithm isn't much better. The data has bimodal distribution, so let's divide it into two groups."
   ]
  },
  {
   "cell_type": "code",
   "execution_count": 47,
   "metadata": {},
   "outputs": [],
   "source": [
    "train['Coap_group'] =  pd.qcut(train.CoapplicantIncome, 2, labels=[0,1])\n",
    "test['Coap_group'] =  pd.qcut(test.CoapplicantIncome, 2, labels=[0,1])"
   ]
  },
  {
   "cell_type": "code",
   "execution_count": 48,
   "metadata": {},
   "outputs": [],
   "source": [
    "train['Coap_group'] = train['Coap_group'].astype(str)\n",
    "test['Coap_group'] = test['Coap_group'].astype(str)"
   ]
  },
  {
   "cell_type": "code",
   "execution_count": 49,
   "metadata": {},
   "outputs": [
    {
     "data": {
      "text/plain": [
       "Coap_group  Loan_Status\n",
       "0           Y              0.677524\n",
       "            N              0.322476\n",
       "1           Y              0.697068\n",
       "            N              0.302932\n",
       "Name: Loan_Status, dtype: float64"
      ]
     },
     "execution_count": 49,
     "metadata": {},
     "output_type": "execute_result"
    }
   ],
   "source": [
    "train.groupby(['Coap_group'])['Loan_Status'].value_counts(normalize=True)"
   ]
  },
  {
   "cell_type": "markdown",
   "metadata": {},
   "source": [
    "Also not good."
   ]
  },
  {
   "cell_type": "markdown",
   "metadata": {},
   "source": [
    "### <a name='LoanAmount'>LoanAmount</a>"
   ]
  },
  {
   "cell_type": "code",
   "execution_count": 50,
   "metadata": {
    "scrolled": true
   },
   "outputs": [
    {
     "data": {
      "text/plain": [
       "<matplotlib.collections.PathCollection at 0x1c4a26e0b70>"
      ]
     },
     "execution_count": 50,
     "metadata": {},
     "output_type": "execute_result"
    },
    {
     "data": {
      "image/png": "[encoded data removed]",
      "text/plain": [
       "<matplotlib.figure.Figure at 0x1c4a1677eb8>"
      ]
     },
     "metadata": {},
     "output_type": "display_data"
    }
   ],
   "source": [
    "plt.scatter(train['ApplicantIncome'], train['LoanAmount'])"
   ]
  },
  {
   "cell_type": "markdown",
   "metadata": {},
   "source": [
    "People with higher income want higher loans. Well, this is reasonable."
   ]
  },
  {
   "cell_type": "code",
   "execution_count": 51,
   "metadata": {
    "scrolled": true
   },
   "outputs": [
    {
     "data": {
      "text/plain": [
       "Education     Gender  Income_group  Self_Employed\n",
       "Graduate      Female  0             No               113.0\n",
       "                      1             No               100.0\n",
       "                                    Yes               96.0\n",
       "                      2             No                87.0\n",
       "                      3             No               102.5\n",
       "                      4             No               112.5\n",
       "                                    Yes              122.0\n",
       "                      5             No               115.5\n",
       "                      6             No               115.0\n",
       "                                    Yes              133.0\n",
       "                      7             No               149.5\n",
       "                                    Yes              105.0\n",
       "                      8             No               200.0\n",
       "                                    Yes              172.0\n",
       "                      9             No               219.5\n",
       "                                    Yes              286.0\n",
       "              Male    0             No                96.0\n",
       "                                    Yes              160.0\n",
       "                      1             No               104.0\n",
       "                                    Yes              164.0\n",
       "                      2             No               120.5\n",
       "                                    Yes               95.0\n",
       "                      3             No               131.0\n",
       "                                    Yes               88.0\n",
       "                      4             No               119.5\n",
       "                                    Yes              130.0\n",
       "                      5             No               130.0\n",
       "                      6             No               129.0\n",
       "                                    Yes              128.0\n",
       "                      7             No               172.5\n",
       "                                                     ...  \n",
       "                      8             No               182.5\n",
       "                                    Yes              220.0\n",
       "                      9             No               275.0\n",
       "                                    Yes              182.0\n",
       "Not Graduate  Female  0             No                98.0\n",
       "                      2             No                91.0\n",
       "                      3             No                95.0\n",
       "                      5             No               124.0\n",
       "                                    Yes               62.0\n",
       "                      6             No               120.0\n",
       "                      7             No               132.0\n",
       "                      8             Yes              138.0\n",
       "                      9             Yes              175.0\n",
       "              Male    0             No                95.0\n",
       "                                    Yes               97.0\n",
       "                      1             No               118.0\n",
       "                                    Yes              104.0\n",
       "                      2             No                98.0\n",
       "                                    Yes              177.5\n",
       "                      3             No               113.0\n",
       "                                    Yes              130.0\n",
       "                      4             No               109.0\n",
       "                      5             No               124.0\n",
       "                                    Yes              158.0\n",
       "                      6             No               124.0\n",
       "                                    Yes               96.0\n",
       "                      7             No               161.0\n",
       "                                    Yes              131.0\n",
       "                      8             No               130.0\n",
       "                                    Yes              156.0\n",
       "Name: LoanAmount, dtype: float64"
      ]
     },
     "execution_count": 51,
     "metadata": {},
     "output_type": "execute_result"
    }
   ],
   "source": [
    "train.groupby(['Education', 'Gender', 'Income_group', 'Self_Employed'])['LoanAmount'].median()"
   ]
  },
  {
   "cell_type": "code",
   "execution_count": 52,
   "metadata": {},
   "outputs": [
    {
     "data": {
      "text/plain": [
       "Education     Gender  Self_Employed\n",
       "Graduate      Female  No               113.0\n",
       "                      Yes              127.5\n",
       "              Male    No               134.0\n",
       "                      Yes              160.0\n",
       "Not Graduate  Female  No               100.0\n",
       "                      Yes              131.5\n",
       "              Male    No               113.0\n",
       "                      Yes              130.0\n",
       "Name: LoanAmount, dtype: float64"
      ]
     },
     "execution_count": 52,
     "metadata": {},
     "output_type": "execute_result"
    }
   ],
   "source": [
    "train.groupby(['Education', 'Gender', 'Self_Employed'])['LoanAmount'].median()"
   ]
  },
  {
   "cell_type": "markdown",
   "metadata": {},
   "source": [
    "At first I fillna with mean by Education, Gender, Income Group and Self Employement, but not for all data exists, so second imputation is necesary."
   ]
  },
  {
   "cell_type": "code",
   "execution_count": 53,
   "metadata": {},
   "outputs": [],
   "source": [
    "train['LoanAmount'] = train.groupby(['Education', 'Gender', 'Income_group', 'Self_Employed'])['LoanAmount'].apply(lambda x: x.fillna(x.mean()))\n",
    "test['LoanAmount'] = test.groupby(['Education', 'Gender', 'Income_group', 'Self_Employed'])['LoanAmount'].apply(lambda x: x.fillna(x.mean()))\n",
    "train['LoanAmount'] = train.groupby(['Education', 'Gender', 'Self_Employed'])['LoanAmount'].apply(lambda x: x.fillna(x.mean()))\n",
    "test['LoanAmount'] = test.groupby(['Education', 'Gender', 'Self_Employed'])['LoanAmount'].apply(lambda x: x.fillna(x.mean()))"
   ]
  },
  {
   "cell_type": "code",
   "execution_count": 54,
   "metadata": {},
   "outputs": [
    {
     "data": {
      "text/plain": [
       "<matplotlib.axes._subplots.AxesSubplot at 0x1c4a26b0240>"
      ]
     },
     "execution_count": 54,
     "metadata": {},
     "output_type": "execute_result"
    },
    {
     "data": {
      "image/png": "[encoded data removed]",
      "text/plain": [
       "<matplotlib.figure.Figure at 0x1c4a26ec240>"
      ]
     },
     "metadata": {},
     "output_type": "display_data"
    }
   ],
   "source": [
    "sns.distplot(train['LoanAmount'], kde=False, color='c', hist_kws={'alpha': 0.9})"
   ]
  },
  {
   "cell_type": "markdown",
   "metadata": {},
   "source": [
    "Loan Amount seems to be more normal than previous variables."
   ]
  },
  {
   "cell_type": "code",
   "execution_count": 55,
   "metadata": {
    "collapsed": true
   },
   "outputs": [],
   "source": [
    "train['Loan_group'] =  pd.qcut(train.LoanAmount, 10, labels=[0,1,2,3,4,5,6,7,8,9])\n",
    "test['Loan_group'] =  pd.qcut(test.LoanAmount, 10, labels=[0,1,2,3,4,5,6,7,8,9])\n",
    "train['Loan_group'] = train['Loan_group'].astype(str)\n",
    "test['Loan_group'] = test['Loan_group'].astype(str)"
   ]
  },
  {
   "cell_type": "markdown",
   "metadata": {},
   "source": [
    "### <a name='Loan_Amount_Term'>Loan_Amount_Term</a>"
   ]
  },
  {
   "cell_type": "code",
   "execution_count": 56,
   "metadata": {},
   "outputs": [
    {
     "data": {
      "text/plain": [
       "360.0    512\n",
       "180.0     44\n",
       "480.0     15\n",
       "300.0     13\n",
       "84.0       4\n",
       "240.0      4\n",
       "120.0      3\n",
       "36.0       2\n",
       "60.0       2\n",
       "12.0       1\n",
       "Name: Loan_Amount_Term, dtype: int64"
      ]
     },
     "execution_count": 56,
     "metadata": {},
     "output_type": "execute_result"
    }
   ],
   "source": [
    "train.Loan_Amount_Term.value_counts()"
   ]
  },
  {
   "cell_type": "markdown",
   "metadata": {},
   "source": [
    "It seems than this feature is in fact categorical and not continuous."
   ]
  },
  {
   "cell_type": "code",
   "execution_count": 57,
   "metadata": {
    "scrolled": true
   },
   "outputs": [
    {
     "data": {
      "text/plain": [
       "<seaborn.axisgrid.FacetGrid at 0x1c4a27a5eb8>"
      ]
     },
     "execution_count": 57,
     "metadata": {},
     "output_type": "execute_result"
    },
    {
     "data": {
      "image/png": "[encoded data removed]",
      "text/plain": [
       "<matplotlib.figure.Figure at 0x1c4a27a8240>"
      ]
     },
     "metadata": {},
     "output_type": "display_data"
    }
   ],
   "source": [
    "sns.factorplot(\"Loan_Status\", col=\"Loan_Amount_Term\", col_wrap=3,\n",
    "               data=train.loc[train.Loan_Amount_Term !=360.], kind=\"count\", size=3.4, aspect=.8)"
   ]
  },
  {
   "cell_type": "markdown",
   "metadata": {},
   "source": [
    "And various loan terms have different rates of getting loan."
   ]
  },
  {
   "cell_type": "code",
   "execution_count": 58,
   "metadata": {
    "scrolled": true
   },
   "outputs": [
    {
     "data": {
      "text/plain": [
       "Education     Income_group  Loan_group   \n",
       "Graduate      0             0           0    360.0\n",
       "                            1           0    360.0\n",
       "                            2           0    360.0\n",
       "                            3           0    360.0\n",
       "                            5           0    360.0\n",
       "                            7           0    360.0\n",
       "              1             0           0    360.0\n",
       "                            1           0    360.0\n",
       "                            2           0    360.0\n",
       "                            3           0    360.0\n",
       "                            4           0    360.0\n",
       "                            5           0    360.0\n",
       "                            6           0    360.0\n",
       "                            7           0    360.0\n",
       "              2             0           0    360.0\n",
       "                            1           0    360.0\n",
       "                            2           0    360.0\n",
       "                            3           0    360.0\n",
       "                            4           0    360.0\n",
       "                            5           0    360.0\n",
       "                            6           0    360.0\n",
       "              3             0           0    360.0\n",
       "                            1           0    360.0\n",
       "                            2           0    360.0\n",
       "                            3           0    360.0\n",
       "                            4           0    360.0\n",
       "                            5           0    360.0\n",
       "                            6           0    360.0\n",
       "                            7           0    360.0\n",
       "              4             1           0    360.0\n",
       "                                             ...  \n",
       "Not Graduate  0             0           0    360.0\n",
       "                            1           0    360.0\n",
       "                            2           0    360.0\n",
       "              1             1           0    360.0\n",
       "                            2           0    360.0\n",
       "                            3           0    360.0\n",
       "                            4           0    360.0\n",
       "              2             0           0    180.0\n",
       "                            1           0    360.0\n",
       "                            2           0    360.0\n",
       "                            3           0    360.0\n",
       "              3             1           0    360.0\n",
       "                            3           0    360.0\n",
       "                            4           0    360.0\n",
       "              4             2           0    360.0\n",
       "                            3           0    360.0\n",
       "              5             0           0    360.0\n",
       "                            3           0    360.0\n",
       "                            4           0    360.0\n",
       "                            5           0    360.0\n",
       "                            6           0    360.0\n",
       "              6             1           0    360.0\n",
       "                            4           0    360.0\n",
       "                            5           0    360.0\n",
       "                            6           0    360.0\n",
       "              7             5           0    360.0\n",
       "                            7           0    360.0\n",
       "                            8           0    360.0\n",
       "              8             5           0    360.0\n",
       "                            8           0    360.0\n",
       "Name: Loan_Amount_Term, dtype: float64"
      ]
     },
     "execution_count": 58,
     "metadata": {},
     "output_type": "execute_result"
    }
   ],
   "source": [
    "train.groupby(['Education', 'Income_group', 'Loan_group'])['Loan_Amount_Term'].apply(lambda x: x.mode())"
   ]
  },
  {
   "cell_type": "markdown",
   "metadata": {},
   "source": [
    "But 360 is truly the most common one."
   ]
  },
  {
   "cell_type": "code",
   "execution_count": 59,
   "metadata": {
    "collapsed": true
   },
   "outputs": [],
   "source": [
    "train['Loan_Amount_Term'].fillna(360.0, inplace=True)\n",
    "test['Loan_Amount_Term'].fillna(360.0, inplace=True)\n",
    "train['Loan_Amount_Term'] = train['Loan_Amount_Term'].astype(str)\n",
    "test['Loan_Amount_Term'] = test['Loan_Amount_Term'].astype(str)"
   ]
  },
  {
   "cell_type": "markdown",
   "metadata": {},
   "source": [
    "### <a name='Credit_History'>Credit_History</a>"
   ]
  },
  {
   "cell_type": "code",
   "execution_count": 60,
   "metadata": {},
   "outputs": [
    {
     "data": {
      "text/plain": [
       "1.0    475\n",
       "0.0     89\n",
       "Name: Credit_History, dtype: int64"
      ]
     },
     "execution_count": 60,
     "metadata": {},
     "output_type": "execute_result"
    }
   ],
   "source": [
    "train.Credit_History.value_counts()"
   ]
  },
  {
   "cell_type": "code",
   "execution_count": 61,
   "metadata": {
    "scrolled": true
   },
   "outputs": [
    {
     "data": {
      "text/plain": [
       "Education     Self_Employed  Property_Area  Income_group   \n",
       "Graduate      No             Rural          0             0    1.0\n",
       "                                            1             0    1.0\n",
       "                                            2             0    1.0\n",
       "                                            3             0    1.0\n",
       "                                            4             0    1.0\n",
       "                                            5             0    1.0\n",
       "                                            6             0    1.0\n",
       "                                            7             0    1.0\n",
       "                                            8             0    1.0\n",
       "                                            9             0    1.0\n",
       "                             Semiurban      0             0    1.0\n",
       "                                            1             0    1.0\n",
       "                                            2             0    1.0\n",
       "                                            3             0    1.0\n",
       "                                            4             0    1.0\n",
       "                                            5             0    1.0\n",
       "                                            6             0    1.0\n",
       "                                            7             0    1.0\n",
       "                                            8             0    1.0\n",
       "                                            9             0    1.0\n",
       "                             Urban          0             0    1.0\n",
       "                                            1             0    1.0\n",
       "                                            2             0    1.0\n",
       "                                            3             0    1.0\n",
       "                                            4             0    1.0\n",
       "                                            5             0    1.0\n",
       "                                            6             0    1.0\n",
       "                                            7             0    1.0\n",
       "                                            8             0    1.0\n",
       "                                            9             0    1.0\n",
       "                                                              ... \n",
       "              Yes            Semiurban      8             0    1.0\n",
       "                                            9             0    1.0\n",
       "                             Urban          0             0    1.0\n",
       "                                            1             0    1.0\n",
       "                                            7             0    1.0\n",
       "                                            8             0    1.0\n",
       "                                            9             0    0.0\n",
       "Not Graduate  No             Rural          0             0    1.0\n",
       "                                            1             0    1.0\n",
       "                                            2             0    1.0\n",
       "                                            3             0    1.0\n",
       "                                            4             0    1.0\n",
       "                                            5             0    1.0\n",
       "                                            6             0    1.0\n",
       "                                            7             0    0.0\n",
       "                             Semiurban      0             0    1.0\n",
       "                                            1             0    1.0\n",
       "                                            2             0    1.0\n",
       "                                            3             0    1.0\n",
       "                                            4             0    1.0\n",
       "                                            5             0    1.0\n",
       "                                            6             0    1.0\n",
       "                                            7             0    1.0\n",
       "                             Urban          0             0    1.0\n",
       "                                            1             0    1.0\n",
       "                                            2             0    0.0\n",
       "                                            3             0    1.0\n",
       "                                            5             0    1.0\n",
       "              Yes            Rural          8             0    1.0\n",
       "                             Urban          6             0    1.0\n",
       "Name: Credit_History, dtype: float64"
      ]
     },
     "execution_count": 61,
     "metadata": {},
     "output_type": "execute_result"
    }
   ],
   "source": [
    "train.groupby(['Education', 'Self_Employed', 'Property_Area', 'Income_group'])['Credit_History'].apply(lambda x: x.mode())"
   ]
  },
  {
   "cell_type": "markdown",
   "metadata": {},
   "source": [
    "This is one of key variables. Filling missing values is an important decision. So I'll fill them with mode values based on the grouping higher."
   ]
  },
  {
   "cell_type": "code",
   "execution_count": 62,
   "metadata": {
    "collapsed": true
   },
   "outputs": [],
   "source": [
    "train.loc[(train.Education == 'Graduate') & (train.Self_Employed == 'Yes')\n",
    "          & (train.Property_Area == 'Urban') & (train.Income_group == '9') & (train.Credit_History.isnull() == True),\n",
    "          'Self_Employed'] = 0.0\n",
    "train.loc[(train.Education == 'Not Graduate') & (train.Self_Employed == 'No')\n",
    "          & (train.Property_Area == 'Rural') & (train.Income_group == '7') & (train.Credit_History.isnull() == True),\n",
    "          'Self_Employed'] = 0.0\n",
    "train.loc[(train.Education == 'Not Graduate') & (train.Self_Employed == 'No')\n",
    "          & (train.Property_Area == 'Urban') & (train.Income_group == '2') & (train.Credit_History.isnull() == True),\n",
    "          'Self_Employed'] = 0.0\n",
    "test.loc[(test.Education == 'Graduate') & (test.Self_Employed == 'Yes')\n",
    "          & (test.Property_Area == 'Urban') & (test.Income_group == '9') & (test.Credit_History.isnull() == True),\n",
    "          'Self_Employed'] = 0.0\n",
    "test.loc[(test.Education == 'Not Graduate') & (test.Self_Employed == 'No')\n",
    "          & (test.Property_Area == 'Rural') & (test.Income_group == '7') & (test.Credit_History.isnull() == True),\n",
    "          'Self_Employed'] = 0.0\n",
    "test.loc[(test.Education == 'Not Graduate') & (test.Self_Employed == 'No')\n",
    "          & (test.Property_Area == 'Urban') & (test.Income_group == '2') & (test.Credit_History.isnull() == True),\n",
    "          'Self_Employed'] = 0.0\n",
    "train['Credit_History'].fillna(1.0, inplace=True)\n",
    "test['Credit_History'].fillna(1.0, inplace=True)\n",
    "train['Credit_History'] = train['Credit_History'].astype(str)\n",
    "test['Credit_History'] = test['Credit_History'].astype(str)"
   ]
  },
  {
   "cell_type": "markdown",
   "metadata": {},
   "source": [
    "### <a name='Property_Area'>Property_Area</a>"
   ]
  },
  {
   "cell_type": "code",
   "execution_count": 63,
   "metadata": {},
   "outputs": [
    {
     "data": {
      "text/plain": [
       "<seaborn.axisgrid.FacetGrid at 0x1c4a2da96a0>"
      ]
     },
     "execution_count": 63,
     "metadata": {},
     "output_type": "execute_result"
    },
    {
     "data": {
      "image/png": "[encoded data removed]",
      "text/plain": [
       "<matplotlib.figure.Figure at 0x1c4a2da95f8>"
      ]
     },
     "metadata": {},
     "output_type": "display_data"
    }
   ],
   "source": [
    "sns.factorplot('Loan_Status', col='Property_Area', col_wrap=3, data=train, kind='count', size=2.5, aspect=.8)"
   ]
  },
  {
   "cell_type": "markdown",
   "metadata": {
    "collapsed": true
   },
   "source": [
    "It seems that people living in Semiurban area have more chances to get loans."
   ]
  },
  {
   "cell_type": "markdown",
   "metadata": {},
   "source": [
    "## <a name='datprep'>Data Preparation</a>"
   ]
  },
  {
   "cell_type": "code",
   "execution_count": 64,
   "metadata": {},
   "outputs": [
    {
     "data": {
      "text/plain": [
       "Gender                object\n",
       "Married               object\n",
       "Dependents            object\n",
       "Education             object\n",
       "Self_Employed         object\n",
       "ApplicantIncome        int64\n",
       "CoapplicantIncome    float64\n",
       "LoanAmount           float64\n",
       "Loan_Amount_Term      object\n",
       "Credit_History        object\n",
       "Property_Area         object\n",
       "Loan_Status           object\n",
       "Income_group          object\n",
       "Coap_group            object\n",
       "Loan_group            object\n",
       "dtype: object"
      ]
     },
     "execution_count": 64,
     "metadata": {},
     "output_type": "execute_result"
    }
   ],
   "source": [
    "train.dtypes"
   ]
  },
  {
   "cell_type": "code",
   "execution_count": 65,
   "metadata": {
    "collapsed": true
   },
   "outputs": [],
   "source": [
    "for col in train.columns.drop('Loan_Status'):\n",
    "    if train[col].dtype != 'object':\n",
    "        if skew(train[col]) > 0.75:\n",
    "            train[col] = np.log1p(train[col])\n",
    "        pass\n",
    "    else:\n",
    "        dummies = pd.get_dummies(train[col], drop_first=False)\n",
    "        dummies = dummies.add_prefix(\"{}_\".format(col))\n",
    "        if col == 'Credit_History' or col == 'Loan_Amount_Term':\n",
    "            pass\n",
    "        else:\n",
    "            train.drop(col, axis=1, inplace=True)\n",
    "        train = train.join(dummies)\n",
    "for col in test.columns:\n",
    "    if test[col].dtype != 'object':\n",
    "        if skew(test[col]) > 0.75:\n",
    "            test[col] = np.log1p(test[col])\n",
    "        pass\n",
    "    else:\n",
    "        dummies = pd.get_dummies(test[col], drop_first=False)\n",
    "        dummies = dummies.add_prefix(\"{}_\".format(col))\n",
    "        if col == 'Credit_History' or col == 'Loan_Amount_Term':\n",
    "            pass\n",
    "        else:\n",
    "            test.drop(col, axis=1, inplace=True)\n",
    "        test = test.join(dummies)"
   ]
  },
  {
   "cell_type": "code",
   "execution_count": 66,
   "metadata": {},
   "outputs": [],
   "source": [
    "#I leave these two variables as they seem to be important by themselves.\n",
    "train['Credit_History'] = train['Credit_History'].astype(float)\n",
    "train['Loan_Amount_Term'] = train['Loan_Amount_Term'].astype(float)\n",
    "test['Credit_History'] = test['Credit_History'].astype(float)\n",
    "test['Loan_Amount_Term'] = test['Loan_Amount_Term'].astype(float)"
   ]
  },
  {
   "cell_type": "code",
   "execution_count": 67,
   "metadata": {
    "collapsed": true
   },
   "outputs": [],
   "source": [
    "X_train = train.drop('Loan_Status', axis=1)\n",
    "le = LabelEncoder()\n",
    "Y_train = le.fit_transform(train.Loan_Status.values)\n",
    "X_test = test"
   ]
  },
  {
   "cell_type": "code",
   "execution_count": 68,
   "metadata": {
    "scrolled": true
   },
   "outputs": [
    {
     "name": "stdout",
     "output_type": "stream",
     "text": [
      "Feature ranking:\n",
      "1. feature 0 ApplicantIncome (0.105550)\n",
      "2. feature 28 Credit_History_0.0 (0.104609)\n",
      "3. feature 2 LoanAmount (0.097904)\n",
      "4. feature 4 Credit_History (0.094418)\n",
      "5. feature 29 Credit_History_1.0 (0.079768)\n",
      "6. feature 1 CoapplicantIncome (0.064432)\n",
      "7. feature 31 Property_Area_Semiurban (0.019144)\n",
      "8. feature 3 Loan_Amount_Term (0.017731)\n",
      "9. feature 30 Property_Area_Rural (0.017615)\n",
      "10. feature 39 Income_group_6 (0.016972)\n",
      "11. feature 9 Dependents_0 (0.016816)\n",
      "12. feature 10 Dependents_1 (0.015914)\n",
      "13. feature 52 Loan_group_7 (0.014838)\n",
      "14. feature 7 Married_No (0.014513)\n",
      "15. feature 8 Married_Yes (0.014420)\n",
      "16. feature 32 Property_Area_Urban (0.014341)\n",
      "17. feature 46 Loan_group_1 (0.011999)\n",
      "18. feature 5 Gender_Female (0.011917)\n",
      "19. feature 14 Education_Not Graduate (0.011763)\n",
      "20. feature 38 Income_group_5 (0.011430)\n",
      "21. feature 43 Coap_group_0 (0.011129)\n",
      "22. feature 50 Loan_group_5 (0.011068)\n",
      "23. feature 44 Coap_group_1 (0.011062)\n",
      "24. feature 24 Loan_Amount_Term_360.0 (0.010687)\n",
      "25. feature 37 Income_group_4 (0.010678)\n",
      "26. feature 6 Gender_Male (0.010525)\n",
      "27. feature 13 Education_Graduate (0.010444)\n",
      "28. feature 11 Dependents_2 (0.010369)\n",
      "29. feature 16 Self_Employed_No (0.010063)\n",
      "30. feature 40 Income_group_7 (0.009910)\n",
      "31. feature 17 Self_Employed_Yes (0.009498)\n",
      "32. feature 54 Loan_group_9 (0.009333)\n",
      "33. feature 34 Income_group_1 (0.008874)\n",
      "34. feature 41 Income_group_8 (0.008807)\n",
      "35. feature 12 Dependents_3+ (0.008768)\n",
      "36. feature 53 Loan_group_8 (0.008255)\n",
      "37. feature 45 Loan_group_0 (0.007432)\n",
      "38. feature 33 Income_group_0 (0.007203)\n",
      "39. feature 42 Income_group_9 (0.007195)\n",
      "40. feature 49 Loan_group_4 (0.006973)\n",
      "41. feature 36 Income_group_3 (0.006803)\n",
      "42. feature 48 Loan_group_3 (0.006733)\n",
      "43. feature 51 Loan_group_6 (0.006564)\n",
      "44. feature 25 Loan_Amount_Term_480.0 (0.006474)\n",
      "45. feature 20 Loan_Amount_Term_180.0 (0.006219)\n",
      "46. feature 35 Income_group_2 (0.005746)\n",
      "47. feature 47 Loan_group_2 (0.005574)\n",
      "48. feature 23 Loan_Amount_Term_36.0 (0.003702)\n",
      "49. feature 22 Loan_Amount_Term_300.0 (0.003218)\n",
      "50. feature 21 Loan_Amount_Term_240.0 (0.002481)\n",
      "51. feature 27 Loan_Amount_Term_84.0 (0.001312)\n",
      "52. feature 26 Loan_Amount_Term_60.0 (0.000306)\n",
      "53. feature 15 Self_Employed_0.0 (0.000221)\n",
      "54. feature 19 Loan_Amount_Term_120.0 (0.000187)\n",
      "55. feature 18 Loan_Amount_Term_12.0 (0.000091)\n"
     ]
    }
   ],
   "source": [
    "clf = RandomForestClassifier(n_estimators=200)\n",
    "clf = clf.fit(X_train, Y_train)\n",
    "indices = np.argsort(clf.feature_importances_)[::-1]\n",
    "\n",
    "print('Feature ranking:')\n",
    "for f in range(X_train.shape[1]):\n",
    "    print('%d. feature %d %s (%f)' % (f + 1, indices[f], X_train.columns[indices[f]],\n",
    "                                      clf.feature_importances_[indices[f]]))"
   ]
  },
  {
   "cell_type": "markdown",
   "metadata": {},
   "source": [
    "Well, little changed. The most important variables are the same. Also Credit History is really important."
   ]
  },
  {
   "cell_type": "code",
   "execution_count": 69,
   "metadata": {},
   "outputs": [],
   "source": [
    "best_features = X_train.columns[indices[0:6]]\n",
    "X = X_train[best_features]\n",
    "Xt = X_test[best_features]"
   ]
  },
  {
   "cell_type": "markdown",
   "metadata": {
    "collapsed": true
   },
   "source": [
    "## <a name='model'>Model</a>"
   ]
  },
  {
   "cell_type": "code",
   "execution_count": 70,
   "metadata": {
    "collapsed": true
   },
   "outputs": [],
   "source": [
    "Xtrain, Xtest, ytrain, ytest = train_test_split(X, Y_train, test_size=0.20, random_state=36)"
   ]
  },
  {
   "cell_type": "code",
   "execution_count": 71,
   "metadata": {},
   "outputs": [
    {
     "data": {
      "text/plain": [
       "0.77235772357723576"
      ]
     },
     "execution_count": 71,
     "metadata": {},
     "output_type": "execute_result"
    }
   ],
   "source": [
    "clf = RandomForestClassifier(n_estimators=300, n_jobs=-1, criterion = 'gini')\n",
    "\n",
    "calibrated_clf = CalibratedClassifierCV(clf, method='isotonic', cv=5)\n",
    "calibrated_clf.fit(Xtrain, ytrain)\n",
    "y_val = calibrated_clf.predict_proba(Xtest)\n",
    "y_f = [1 if y_val[i][0] < 0.5 else 0 for i in range(len(ytest))]\n",
    "sum(y_f == ytest) / len(ytest)"
   ]
  },
  {
   "cell_type": "markdown",
   "metadata": {},
   "source": [
    "I tried using other algorithms, but they had worse results. Also I tried tuning RandomForest parameters, but it led to overfitting."
   ]
  },
  {
   "cell_type": "code",
   "execution_count": 72,
   "metadata": {
    "scrolled": true
   },
   "outputs": [],
   "source": [
    "clf = RandomForestClassifier(n_estimators=300, n_jobs=-1, criterion = 'gini')\n",
    "calibrated_clf = CalibratedClassifierCV(clf, method='isotonic', cv=5)\n",
    "calibrated_clf.fit(X, Y_train)\n",
    "y_submit = calibrated_clf.predict_proba(Xt)"
   ]
  },
  {
   "cell_type": "code",
   "execution_count": 73,
   "metadata": {
    "collapsed": true
   },
   "outputs": [],
   "source": [
    "y_pred = le.inverse_transform([1 if y_submit[i][0] < 0.5 else 0 for i in range(len(Xt))])\n",
    "submission = pd.DataFrame({'Loan_ID':test_id, 'Loan_Status':y_pred})\n",
    "submission.to_csv('Loan.csv', index=False)"
   ]
  },
  {
   "cell_type": "markdown",
   "metadata": {},
   "source": [
    "This solution had an accuracy of 0.784722222222. I couldn't improve it. Then suddenly I made a mistake and made a prediction using estimator fitted not on the whole dataset, but only on the training part(splitted from main train data) and reached a new best accuracy of 0.798611. This is fifth best score.\n",
    "Not sure what caused the increase in the score. I suppose the reason is small amount of data. Adding or substracting some samples could lead to changes is weights, assigned by the estimator. So while the score is higher, there could be overfitting. And on bigger datasets training model on the whole training data is better and more adequate."
   ]
  }
 ],
 "metadata": {
  "anaconda-cloud": {},
  "kernelspec": {
   "display_name": "Python [Root]",
   "language": "python",
   "name": "Python [Root]"
  },
  "language_info": {
   "codemirror_mode": {
    "name": "ipython",
    "version": 3
   },
   "file_extension": ".py",
   "mimetype": "text/x-python",
   "name": "python",
   "nbconvert_exporter": "python",
   "pygments_lexer": "ipython3",
   "version": "3.6.1"
  }
 },
 "nbformat": 4,
 "nbformat_minor": 1
}
